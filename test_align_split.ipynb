{
 "cells": [
  {
   "cell_type": "code",
   "execution_count": 10,
   "metadata": {},
   "outputs": [],
   "source": [
    "import numpy as np\n",
    "from scipy.io import loadmat, wavfile\n",
    "from scipy import signal\n",
    "import matplotlib.pyplot as plt\n",
    "import matplotlib as mpl\n",
    "from Signal_Analysis.features.signal import get_F_0, get_HNR\n",
    "from importlib import reload\n",
    "import wave\n",
    "import json\n",
    "from os import path\n",
    "from vosk import Model, KaldiRecognizer,SetLogLevel\n",
    "\n",
    "\n",
    "# tools work in progress\n",
    "import tools\n",
    "reload(tools)\n",
    "from tools import *\n",
    "\n",
    "plt.style.use(\"dark_background\")\n",
    "mpl.rcParams[\"lines.linewidth\"] = 0.5\n",
    "plt.close(\"all\")"
   ]
  },
  {
   "cell_type": "code",
   "execution_count": 11,
   "metadata": {},
   "outputs": [],
   "source": [
    "model_path = \"models/vosk-model-en-us-0.22\"\n",
    "#model_path = \"models/vosk-model-small-en-us-0.15\"\n",
    "if not \"model\" in locals():\n",
    "    model = Model(model_path)"
   ]
  },
  {
   "cell_type": "code",
   "execution_count": 12,
   "metadata": {},
   "outputs": [
    {
     "name": "stdout",
     "output_type": "stream",
     "text": [
      "# Samples        132480\n",
      "Sample frequency 32000\n"
     ]
    }
   ],
   "source": [
    "audio_filename = \"wav_examples/female_canoe.wav\"\n",
    "wf = wave.open(audio_filename, \"rb\")\n",
    "\n",
    "print(\"# Samples       \", wf.getnframes())\n",
    "print(\"Sample frequency\",wf.getframerate())"
   ]
  },
  {
   "cell_type": "markdown",
   "metadata": {},
   "source": [
    "## Recognize words"
   ]
  },
  {
   "cell_type": "code",
   "execution_count": 13,
   "metadata": {},
   "outputs": [
    {
     "name": "stdout",
     "output_type": "stream",
     "text": [
      "the ----------------- from 0.99 to 1.17 sec, confidence: 100.00%\n",
      "entry --------------- from 1.17 to 1.53 sec, confidence: 100.00%\n",
      "could --------------- from 1.53 to 1.74 sec, confidence: 100.00%\n",
      "double -------------- from 1.74 to 2.16 sec, confidence: 100.00%\n",
      "as ------------------ from 2.16 to 2.34 sec, confidence: 100.00%\n",
      "a ------------------- from 2.34 to 2.40 sec, confidence: 100.00%\n",
      "canoe --------------- from 2.40 to 2.79 sec, confidence: 100.00%\n",
      "dock ---------------- from 2.79 to 3.33 sec, confidence: 100.00%\n"
     ]
    }
   ],
   "source": [
    "wf = wave.open(audio_filename, \"rb\")\n",
    "\n",
    "rec = KaldiRecognizer(model, wf.getframerate())\n",
    "rec.SetWords(True)\n",
    "\n",
    "# list of word dictionaries\n",
    "results = []\n",
    "\n",
    "# recognize speech, vosk\n",
    "while True:\n",
    "    data = wf.readframes(wf.getframerate())\n",
    "    if len(data) == 0: # if end\n",
    "        break\n",
    "    if rec.AcceptWaveform(data):\n",
    "        part_result = json.loads(rec.Result())\n",
    "        results.append(part_result)\n",
    "\n",
    "wf.close()  # close audiofile\n",
    "\n",
    "part_result = json.loads(rec.FinalResult())\n",
    "results.append(part_result)\n",
    "\n",
    "words = []\n",
    "for sentence in results:\n",
    "    if len(sentence) == 1:\n",
    "        # sometimes there are bugs in recognition \n",
    "        # and it returns an empty dictionary\n",
    "        # {'text': ''}\n",
    "        continue\n",
    "    for w in sentence['result']:\n",
    "        words.append(w)  # and add it to list\n",
    "\n",
    "\n",
    "def print_w(w):\n",
    "    \"\"\"prints the word, and information from a word dictionary\"\"\"\n",
    "    print(\"{:20} from {:.2f} to {:.2f} sec, confidence: {:.2f}%\".format(\n",
    "        w[\"word\"]+\" \" +(\"-\"*(20-len(w[\"word\"]))), w[\"start\"], w[\"end\"], w[\"conf\"]*100))\n",
    "\n",
    "# print info\n",
    "for w in words:\n",
    "    print_w(w)\n"
   ]
  },
  {
   "cell_type": "code",
   "execution_count": 14,
   "metadata": {},
   "outputs": [
    {
     "data": {
      "image/png": "[encoded data removed]",
      "text/plain": [
       "<Figure size 640x480 with 1 Axes>"
      ]
     },
     "metadata": {},
     "output_type": "display_data"
    }
   ],
   "source": [
    "Fs, audio = wavfile.read(audio_filename)\n",
    "\n",
    "tt = np.linspace(0,len(audio)/Fs,len(audio))\n",
    "\n",
    "plt.figure()\n",
    "plt.plot(tt,audio,label = \"signal\")\n",
    "plt.xlabel(\"Time (s)\")\n",
    "ymin,ymax = plt.ylim()\n",
    "plt.vlines([w[\"start\"] for w in words],ymin,ymax,\"r\",label=\"word start\")\n",
    "plt.legend()\n",
    "plt.show()"
   ]
  },
  {
   "cell_type": "markdown",
   "metadata": {},
   "source": [
    "### Test timestamps\n",
    "\n",
    "Maybe short words are not perfect"
   ]
  },
  {
   "cell_type": "code",
   "execution_count": 15,
   "metadata": {},
   "outputs": [
    {
     "name": "stdout",
     "output_type": "stream",
     "text": [
      "31680 37440\n",
      "37440 48960\n",
      "48960 55680\n",
      "55680 69120\n",
      "69120 74880\n",
      "74880 76800\n",
      "76800 89280\n",
      "89280 106560\n"
     ]
    }
   ],
   "source": [
    "for w in words:\n",
    "    print(int(w[\"start\"]*Fs), int(w[\"end\"]*Fs))"
   ]
  },
  {
   "cell_type": "code",
   "execution_count": 16,
   "metadata": {},
   "outputs": [
    {
     "name": "stdout",
     "output_type": "stream",
     "text": [
      "words_sep_female_canoe\n"
     ]
    }
   ],
   "source": [
    "frames = []\n",
    "for w in words:\n",
    "    frames.append(audio[int(w[\"start\"]*Fs):int(w[\"end\"]*Fs)])\n",
    "\n",
    "out_name = \"words_sep_\"+audio_filename[:-4].split(\"/\")[-1]\n",
    "\n",
    "print(out_name)\n",
    "\n",
    "out = stitch_frames(frames, fade_pow=  0, padding = 1*Fs)\n",
    "wavfile.write(path.join(\"output\",out_name+\".wav\"),Fs,out)"
   ]
  },
  {
   "cell_type": "markdown",
   "metadata": {},
   "source": [
    "#### one word?"
   ]
  },
  {
   "cell_type": "code",
   "execution_count": null,
   "metadata": {},
   "outputs": [],
   "source": []
  }
 ],
 "metadata": {
  "kernelspec": {
   "display_name": "timeseries",
   "language": "python",
   "name": "python3"
  },
  "language_info": {
   "codemirror_mode": {
    "name": "ipython",
    "version": 3
   },
   "file_extension": ".py",
   "mimetype": "text/x-python",
   "name": "python",
   "nbconvert_exporter": "python",
   "pygments_lexer": "ipython3",
   "version": "3.11.5"
  }
 },
 "nbformat": 4,
 "nbformat_minor": 2
}
