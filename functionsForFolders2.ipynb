{
 "cells": [
  {
   "cell_type": "code",
   "execution_count": 8,
   "metadata": {},
   "outputs": [],
   "source": [
    "import os\n",
    "def createLanguageFolder(language, vowels):\n",
    "    # Language as string\n",
    "    # List of vowels\n",
    "    \n",
    "    # Get current folder\n",
    "    org_folder = os.getcwd()\n",
    "    # Check if a general language folder exists\n",
    "    if 'Languages' not in os.listdir():\n",
    "        os.mkdir('Languages')\n",
    "    # Change directory\n",
    "    folder = os.getcwd()+'/Languages'\n",
    "    os.chdir(folder)\n",
    "    # Check if specific language folder exists\n",
    "    if language.upper() not in (name.upper() for name in os.listdir()):\n",
    "        # If not add folder for specific language\n",
    "        os.mkdir(language)\n",
    "        # And a vowel folder\n",
    "        folder = os.getcwd()+'/'+language\n",
    "        os.chdir(folder)\n",
    "        os.mkdir('Vowels')\n",
    "        # Add vowels\n",
    "        os.chdir(folder + '/'+ 'Vowels')\n",
    "        for i in range(0,len(vowels)):\n",
    "            os.mkdir(vowels[i])\n",
    "\n",
    "    # Go back to original folder\n",
    "    os.chdir(org_folder)    "
   ]
  },
  {
   "cell_type": "code",
   "execution_count": 9,
   "metadata": {},
   "outputs": [],
   "source": [
    "import os\n",
    "from scipy.io.wavfile import write\n",
    "# Vowel folder for each individual person\n",
    "def updateFolder(language, file, label, id, fs):\n",
    "    # language - Spoken language as string\n",
    "    # file - Sound file of vowel in wav format\n",
    "    # label - Label of vowel as char\n",
    "    # id - String containing individual information on format XXX\n",
    "    # fs - sample rate\n",
    "\n",
    "    org_folder = os.getcwd()\n",
    "    # Check if folder exists\n",
    "    path = org_folder+'/Languages/'+language+'/Vowels/'+label\n",
    "    if os.path.exists(path):\n",
    "        # Change directory\n",
    "        os.chdir(path)\n",
    "        # Check if previous file for id exists\n",
    "        try:\n",
    "            matches = [name for name in os.listdir() if id in name]\n",
    "            try:\n",
    "                write(id + str(len(matches)) + '.wav', fs, file)\n",
    "            except:\n",
    "                print('')\n",
    "        except:\n",
    "            print('')\n",
    "    else:\n",
    "        print('Folder does not exist')\n",
    "    \n",
    "    # Go back to original folder\n",
    "    os.chdir(org_folder)   \n"
   ]
  },
  {
   "cell_type": "code",
   "execution_count": 18,
   "metadata": {},
   "outputs": [],
   "source": [
    "import os\n",
    "def addVowelToLanguage(language, vowel):\n",
    "    # Adds vowel to language folder\n",
    "    org_folder = os.getcwd()\n",
    "    path = org_folder+'/Languages/'+language+'/Vowels'\n",
    "    # Checks if language has been added\n",
    "    if os.path.exists(path):\n",
    "        # Change directory\n",
    "        os.chdir(path)\n",
    "        # Check if vowel not already in set of vowel\n",
    "        if vowel.upper() not in (name.upper() for name in os.listdir()):\n",
    "            # Adds vowel to set of vowels for language\n",
    "            os.mkdir(vowel)\n",
    "        else:\n",
    "            print('Vowel already in set of vowels')\n",
    "        # Go back to original folder\n",
    "        os.chdir(org_folder)\n",
    "    else:\n",
    "        print('Language has not been added')"
   ]
  },
  {
   "cell_type": "code",
   "execution_count": 19,
   "metadata": {},
   "outputs": [],
   "source": [
    "import os\n",
    "def removeVowelFromLanguage(language, vowel):\n",
    "    # Removes vowel from language folder\n",
    "    path = os.getcwd()+'/Languages/'+language+'/Vowels/'+vowel\n",
    "    # Checks if vowel has been added\n",
    "    if os.path.exists(path):\n",
    "        # Checks if vowel already in set of vowels\n",
    "        # Removes vowel to set of vowels for language\n",
    "        os.rmdir(path)\n",
    "    else:\n",
    "        print('Issue when removing vowel')"
   ]
  },
  {
   "cell_type": "code",
   "execution_count": 20,
   "metadata": {},
   "outputs": [],
   "source": [
    "import os\n",
    "def getListOfVowels(language):\n",
    "    # Returns list of vowels for language\n",
    "    vowels = []\n",
    "    org_folder = os.getcwd()\n",
    "    path = org_folder+'/Languages/'+language+'/Vowels'\n",
    "    if os.path.exists(path):\n",
    "        os.chdir(path)\n",
    "        vowels = os.listdir()\n",
    "        os.chdir(org_folder)\n",
    "    return vowels"
   ]
  },
  {
   "cell_type": "code",
   "execution_count": 10,
   "metadata": {},
   "outputs": [
    {
     "name": "stdout",
     "output_type": "stream",
     "text": [
      "\n"
     ]
    }
   ],
   "source": [
    "language = \"Swedish\"\n",
    "vowels = [\"a\", \"e\", \"i\", \"o\", \"u\", \"y\", \"å\", \"ä\", \"ö\"]\n",
    "# Create language folder\n",
    "createLanguageFolder(language, vowels)\n",
    "# Try moving file\n",
<<<<<<< HEAD
    "file = \"rey.wav\"\n",
    "label = 'e'\n",
    "id = 'Roy'\n",
    "updateFolder(language, file, label, id, 48000)"
=======
    "file = \"AmericanEnglish.wav\"\n",
    "label = \"a\"\n",
    "id = \"Roy2\"\n",
    "updateFolder(language, file, label, id)"
>>>>>>> 444865f7f9e72050c3ae3d36c7aadb70019d2f03
   ]
  },
  {
   "cell_type": "code",
   "execution_count": 22,
   "metadata": {},
   "outputs": [
    {
     "ename": "FileNotFoundError",
     "evalue": "[WinError 2] Det går inte att hitta filen: 'c:\\\\Users\\\\isaco\\\\OneDrive\\\\Dokument\\\\LTH\\\\Spektralanalys\\\\Project\\\\VowelProject/Languages/Swedish/Vowels/a/Roy'",
     "output_type": "error",
     "traceback": [
      "\u001b[1;31m---------------------------------------------------------------------------\u001b[0m",
      "\u001b[1;31mFileNotFoundError\u001b[0m                         Traceback (most recent call last)",
      "Cell \u001b[1;32mIn[22], line 5\u001b[0m\n\u001b[0;32m      3\u001b[0m org_folder \u001b[38;5;241m=\u001b[39m os\u001b[38;5;241m.\u001b[39mgetcwd()\n\u001b[0;32m      4\u001b[0m path \u001b[38;5;241m=\u001b[39m org_folder\u001b[38;5;241m+\u001b[39m\u001b[38;5;124m'\u001b[39m\u001b[38;5;124m/Languages/\u001b[39m\u001b[38;5;124m'\u001b[39m\u001b[38;5;241m+\u001b[39mlanguage\u001b[38;5;241m+\u001b[39m\u001b[38;5;124m'\u001b[39m\u001b[38;5;124m/Vowels/\u001b[39m\u001b[38;5;124m'\u001b[39m\u001b[38;5;241m+\u001b[39mlabel\u001b[38;5;241m+\u001b[39m\u001b[38;5;124m'\u001b[39m\u001b[38;5;124m/\u001b[39m\u001b[38;5;124m'\u001b[39m\u001b[38;5;241m+\u001b[39m\u001b[38;5;28mid\u001b[39m\n\u001b[1;32m----> 5\u001b[0m os\u001b[38;5;241m.\u001b[39mchdir(path)\n\u001b[0;32m      6\u001b[0m source \u001b[38;5;241m=\u001b[39m os\u001b[38;5;241m.\u001b[39mpath\u001b[38;5;241m.\u001b[39mjoin(path, file)\n\u001b[0;32m      7\u001b[0m destination \u001b[38;5;241m=\u001b[39m os\u001b[38;5;241m.\u001b[39mpath\u001b[38;5;241m.\u001b[39mjoin(org_folder, file)\n",
      "\u001b[1;31mFileNotFoundError\u001b[0m: [WinError 2] Det går inte att hitta filen: 'c:\\\\Users\\\\isaco\\\\OneDrive\\\\Dokument\\\\LTH\\\\Spektralanalys\\\\Project\\\\VowelProject/Languages/Swedish/Vowels/a/Roy'"
     ]
    }
   ],
   "source": [
    "# Resets a moved file\n",
    "import os\n",
    "org_folder = os.getcwd()\n",
    "path = org_folder+'/Languages/'+language+'/Vowels/'+label+'/'+id\n",
    "os.chdir(path)\n",
    "source = os.path.join(path, file)\n",
    "destination = os.path.join(org_folder, file)\n",
    "try:\n",
    "    os.replace(source, destination)\n",
    "except FileNotFoundError:\n",
    "    print('File does not exist')\n",
    "os.chdir(org_folder)"
   ]
  },
  {
   "cell_type": "code",
   "execution_count": null,
   "metadata": {},
   "outputs": [
    {
     "name": "stdout",
     "output_type": "stream",
     "text": [
      "Language has not been added\n",
      "Issue when removing vowel\n"
     ]
    }
   ],
   "source": [
    "# Example of how to add a vowel\n",
    "language = 'Swedish'\n",
    "vowel = 'z'\n",
    "addVowelToLanguage(language, vowel)\n",
    "\n",
    "# Example of how to remove a vowel \n",
    "removeVowelFromLanguage(language, vowel)"
   ]
  },
  {
   "cell_type": "code",
   "execution_count": null,
   "metadata": {},
   "outputs": [
    {
     "name": "stdout",
     "output_type": "stream",
     "text": [
      "[]\n"
     ]
    }
   ],
   "source": [
    "# Example of how to extract all vowels \n",
    "language = 'Swedish'\n",
    "vowels = getListOfVowels(language)\n",
    "print(vowels)"
   ]
  }
 ],
 "metadata": {
  "kernelspec": {
<<<<<<< HEAD
   "display_name": "pyt3115",
=======
   "display_name": "timeseries",
>>>>>>> 444865f7f9e72050c3ae3d36c7aadb70019d2f03
   "language": "python",
   "name": "python3"
  },
  "language_info": {
<<<<<<< HEAD
   "codemirror_mode": {
    "name": "ipython",
    "version": 3
   },
   "file_extension": ".py",
   "mimetype": "text/x-python",
   "name": "python",
   "nbconvert_exporter": "python",
   "pygments_lexer": "ipython3",
   "version": "3.11.4"
=======
   "name": "python",
   "version": "3.11.5"
>>>>>>> 444865f7f9e72050c3ae3d36c7aadb70019d2f03
  }
 },
 "nbformat": 4,
 "nbformat_minor": 2
}
