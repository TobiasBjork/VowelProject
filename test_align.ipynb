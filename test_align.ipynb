{
 "cells": [
  {
   "cell_type": "code",
   "execution_count": 1,
   "metadata": {},
   "outputs": [],
   "source": [
    "import numpy as np\n",
    "from scipy.io import loadmat, wavfile\n",
    "from scipy import signal\n",
    "import matplotlib.pyplot as plt\n",
    "import matplotlib as mpl\n",
    "from Signal_Analysis.features.signal import get_F_0, get_HNR\n",
    "from importlib import reload\n",
    "import wave\n",
    "import json\n",
    "from vosk import Model, KaldiRecognizer,SetLogLevel\n",
    "\n",
    "\n",
    "# tools work in progress\n",
    "import tools\n",
    "reload(tools)\n",
    "from tools import *\n",
    "\n",
    "plt.style.use(\"dark_background\")\n",
    "mpl.rcParams[\"lines.linewidth\"] = 0.5\n",
    "plt.close(\"all\")\n",
    "\n"
   ]
  },
  {
   "cell_type": "code",
   "execution_count": 2,
   "metadata": {},
   "outputs": [],
   "source": [
    "#model_path = \"models/vosk-model-en-us-0.22\"\n",
    "#model_path = \"models/vosk-model-small-en-us-0.15\"\n",
    "model_path = \"models/vosk-model-small-sv-rhasspy-0.15/\"\n",
    "if not \"model\" in locals():\n",
    "    model = Model(model_path)\n"
   ]
  },
  {
   "cell_type": "code",
   "execution_count": 3,
   "metadata": {},
   "outputs": [],
   "source": [
    "\n",
    "class Word:\n",
    "    ''' A class representing a word from the JSON format for vosk speech recognition API '''\n",
    "\n",
    "    def __init__(self, dict):\n",
    "        '''\n",
    "        Parameters:\n",
    "          dict (dict) dictionary from JSON, containing:\n",
    "            conf (float): degree of confidence, from 0 to 1\n",
    "            end (float): end time of the pronouncing the word, in seconds\n",
    "            start (float): start time of the pronouncing the word, in seconds\n",
    "            word (str): recognized word\n",
    "        '''\n",
    "\n",
    "        self.conf = dict[\"conf\"]\n",
    "        self.end = dict[\"end\"]\n",
    "        self.start = dict[\"start\"]\n",
    "        self.word = dict[\"word\"]\n",
    "\n",
    "    def to_string(self):\n",
    "        ''' Returns a string describing this instance '''\n",
    "        return \"{:20} from {:.2f} sec to {:.2f} sec, confidence is {:.2f}%\".format(\n",
    "            self.word, self.start, self.end, self.conf*100)"
   ]
  },
  {
   "cell_type": "code",
   "execution_count": 9,
   "metadata": {},
   "outputs": [
    {
     "name": "stdout",
     "output_type": "stream",
     "text": [
      "137088\n",
      "32000\n"
     ]
    }
   ],
   "source": [
    "#audio_filename = \"wav_examples/kaviar_sv.wav\"\n",
    "#audio_filename = \"wav_examples/digitala_resurser_sv.wav\"\n",
    "audio_filename = \"wav_examples/sammarbete_sv.wav\"\n",
    "wf = wave.open(audio_filename, \"rb\")\n",
    "\n",
    "print(wf.getnframes())\n",
    "print(wf.getframerate())"
   ]
  },
  {
   "cell_type": "code",
   "execution_count": 11,
   "metadata": {},
   "outputs": [
    {
     "name": "stdout",
     "output_type": "stream",
     "text": [
      "detta                from 0.75 sec to 1.26 sec, confidence is 100.00%\n",
      "underlättar          from 1.29 sec to 2.16 sec, confidence is 100.00%\n",
      "samarbetet           from 2.16 sec to 3.42 sec, confidence is 100.00%\n"
     ]
    }
   ],
   "source": [
    "wf = wave.open(audio_filename, \"rb\")\n",
    "\n",
    "rec = KaldiRecognizer(model, wf.getframerate())\n",
    "rec.SetWords(True)\n",
    "\n",
    "# get the list of JSON dictionaries\n",
    "results = []\n",
    "# recognize speech using vosk model\n",
    "while True:\n",
    "    data = wf.readframes(wf.getframerate())\n",
    "    if len(data) == 0:\n",
    "        break\n",
    "    if rec.AcceptWaveform(data):\n",
    "        part_result = json.loads(rec.Result())\n",
    "        results.append(part_result)\n",
    "part_result = json.loads(rec.FinalResult())\n",
    "results.append(part_result)\n",
    "\n",
    "\n",
    "# convert list of JSON dictionaries to list of 'Word' objects\n",
    "list_of_words = []\n",
    "for sentence in results:\n",
    "    if len(sentence) == 1:\n",
    "        # sometimes there are bugs in recognition \n",
    "        # and it returns an empty dictionary\n",
    "        # {'text': ''}\n",
    "        continue\n",
    "    for obj in sentence['result']:\n",
    "        w = Word(obj)  # create custom Word object\n",
    "        list_of_words.append(w)  # and add it to list\n",
    "\n",
    "wf.close()  # close audiofile\n",
    "\n",
    "# output to the screen\n",
    "for word in list_of_words:\n",
    "    print(word.to_string())\n"
   ]
  },
  {
   "cell_type": "markdown",
   "metadata": {},
   "source": [
    "## Test timestamps"
   ]
  },
  {
   "cell_type": "code",
   "execution_count": 6,
   "metadata": {},
   "outputs": [
    {
     "data": {
      "text/plain": [
       "<__main__.Word at 0x1c2983e92d0>"
      ]
     },
     "execution_count": 6,
     "metadata": {},
     "output_type": "execute_result"
    }
   ],
   "source": [
    "list_of_words[0]"
   ]
  }
 ],
 "metadata": {
  "kernelspec": {
   "display_name": "timeseries",
   "language": "python",
   "name": "python3"
  },
  "language_info": {
   "codemirror_mode": {
    "name": "ipython",
    "version": 3
   },
   "file_extension": ".py",
   "mimetype": "text/x-python",
   "name": "python",
   "nbconvert_exporter": "python",
   "pygments_lexer": "ipython3",
   "version": "0.0.0"
  }
 },
 "nbformat": 4,
 "nbformat_minor": 2
}
