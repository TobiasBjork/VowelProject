{
 "cells": [
  {
   "cell_type": "code",
   "execution_count": 74,
   "metadata": {},
   "outputs": [],
   "source": [
    "import numpy as np\n",
    "from scipy.io import wavfile\n",
    "import matplotlib.pyplot as plt\n",
    "import matplotlib as mpl\n",
    "from importlib import reload\n",
    "from vosk import Model\n",
    "from Signal_Analysis.features.signal import get_HNR\n",
    "from scipy import signal\n",
    "from audiostretchy.stretch import stretch_audio\n",
    "import pandas as pd\n",
    "\n",
    "# tools work in progress\n",
    "import tools\n",
    "\n",
    "reload(tools)\n",
    "\n",
    "plt.style.use(\"dark_background\")\n",
    "mpl.rcParams[\"lines.linewidth\"] = 0.5\n",
    "plt.close(\"all\")"
   ]
  },
  {
   "cell_type": "markdown",
   "metadata": {},
   "source": [
    "## audio, labels, speech recognition"
   ]
  },
  {
   "cell_type": "code",
   "execution_count": 75,
   "metadata": {},
   "outputs": [
    {
     "name": "stdout",
     "output_type": "stream",
     "text": [
      "0 i ------------------- from 0.2700 to 0.4200 sec, confidence: 100.00%\n",
      "1 skymningen ---------- from 0.4200 to 1.2600 sec, confidence: 100.00%\n",
      "2 en ------------------ from 1.3500 to 1.5000 sec, confidence: 100.00%\n",
      "3 mycket -------------- from 1.5000 to 1.8000 sec, confidence: 100.00%\n",
      "4 het ----------------- from 1.8300 to 2.1000 sec, confidence: 100.00%\n",
      "5 dag ----------------- from 2.1000 to 2.4300 sec, confidence: 100.00%\n",
      "6 i ------------------- from 2.4300 to 2.5200 sec, confidence: 100.00%\n",
      "7 början -------------- from 2.5200 to 2.7900 sec, confidence: 100.00%\n",
      "8 av ------------------ from 2.7900 to 2.9100 sec, confidence: 100.00%\n",
      "9 juli ---------------- from 2.9100 to 3.3600 sec, confidence: 100.00%\n",
      "10 lämnade ------------- from 3.3600 to 3.9900 sec, confidence: 100.00%\n",
      "11 en ------------------ from 3.9900 to 4.1400 sec, confidence: 100.00%\n",
      "12 ung ----------------- from 4.1400 to 4.4100 sec, confidence: 100.00%\n",
      "13 man ----------------- from 4.4100 to 4.6800 sec, confidence: 100.00%\n",
      "14 sin ----------------- from 4.6800 to 4.9200 sec, confidence: 100.00%\n",
      "15 kammare ------------- from 4.9200 to 5.5800 sec, confidence: 100.00%\n",
      "16 som ----------------- from 5.7900 to 5.9700 sec, confidence: 88.08%\n",
      "17 han ----------------- from 5.9700 to 6.0900 sec, confidence: 75.31%\n",
      "18 hörde --------------- from 6.0900 to 6.4800 sec, confidence: 66.79%\n",
      "19 vid ----------------- from 6.4800 to 6.6900 sec, confidence: 100.00%\n",
      "20 s ------------------- from 6.7200 to 7.0500 sec, confidence: 88.96%\n",
      "21 grand --------------- from 7.0500 to 7.5300 sec, confidence: 59.45%\n",
      "22 steg ---------------- from 7.8000 to 8.1300 sec, confidence: 100.00%\n",
      "23 ut ------------------ from 8.1300 to 8.3100 sec, confidence: 100.00%\n",
      "24 på ------------------ from 8.3100 to 8.4300 sec, confidence: 100.00%\n",
      "25 gatan --------------- from 8.4300 to 9.0600 sec, confidence: 100.00%\n",
      "26 och ----------------- from 9.0600 to 9.1800 sec, confidence: 100.00%\n",
      "27 började ------------- from 9.1800 to 9.6879 sec, confidence: 81.96%\n",
      "28 långsamt ------------ from 9.6879 to 10.4700 sec, confidence: 100.00%\n",
      "29 och ----------------- from 10.4700 to 10.5900 sec, confidence: 100.00%\n",
      "30 med ----------------- from 10.5900 to 10.7700 sec, confidence: 63.46%\n",
      "31 samma --------------- from 10.7700 to 11.0400 sec, confidence: 37.11%\n",
      "32 obeslutsam ---------- from 11.0700 to 12.0600 sec, confidence: 100.00%\n",
      "33 går ----------------- from 12.1200 to 12.3900 sec, confidence: 68.46%\n",
      "34 bort ---------------- from 12.3900 to 12.6900 sec, confidence: 90.84%\n",
      "35 mot ----------------- from 12.6900 to 12.9246 sec, confidence: 64.11%\n",
      "36 jobb ---------------- from 12.9246 to 13.3172 sec, confidence: 74.38%\n",
      "37 men ----------------- from 13.3200 to 13.5300 sec, confidence: 37.05%\n",
      "38 lyckligtvis --------- from 14.0400 to 14.7900 sec, confidence: 100.00%\n",
      "39 slapp --------------- from 14.7900 to 15.0600 sec, confidence: 100.00%\n",
      "40 han ----------------- from 15.0600 to 15.2100 sec, confidence: 100.00%\n",
      "41 möter --------------- from 15.2100 to 15.5700 sec, confidence: 72.76%\n",
      "42 värdinnan ----------- from 15.5700 to 16.0800 sec, confidence: 100.00%\n",
      "43 i ------------------- from 16.0800 to 16.1477 sec, confidence: 100.00%\n",
      "44 kappan -------------- from 16.1477 to 16.6800 sec, confidence: 60.03%\n",
      "45 fanns --------------- from 17.0100 to 17.2500 sec, confidence: 52.42%\n",
      "46 kammare ------------- from 17.2500 to 17.9400 sec, confidence: 100.00%\n",
      "47 som ----------------- from 18.0000 to 18.2100 sec, confidence: 100.00%\n",
      "48 låg ----------------- from 18.2100 to 18.4200 sec, confidence: 81.01%\n",
      "49 alldeles ------------ from 18.4200 to 18.9195 sec, confidence: 81.01%\n",
      "50 in ------------------ from 19.1100 to 19.2900 sec, confidence: 100.00%\n",
      "51 under --------------- from 19.3200 to 19.7400 sec, confidence: 100.00%\n",
      "52 den ----------------- from 19.7400 to 19.9200 sec, confidence: 100.00%\n",
      "53 höga ---------------- from 19.9200 to 20.3404 sec, confidence: 100.00%\n",
      "54 fem ----------------- from 20.3404 to 20.6415 sec, confidence: 83.52%\n",
      "55 veckor -------------- from 20.6415 to 20.8800 sec, confidence: 22.46%\n",
      "56 aning --------------- from 21.1500 to 21.4500 sec, confidence: 21.32%\n",
      "57 byggnadens ---------- from 21.4800 to 22.1700 sec, confidence: 100.00%\n",
      "58 tak ----------------- from 22.1700 to 22.6800 sec, confidence: 100.00%\n",
      "59 liknande ------------ from 22.9200 to 23.3700 sec, confidence: 100.00%\n",
      "60 snart --------------- from 23.4000 to 23.8500 sec, confidence: 100.00%\n",
      "61 ska ----------------- from 23.8800 to 24.1500 sec, confidence: 100.00%\n",
      "62 jag ----------------- from 24.1500 to 24.2700 sec, confidence: 100.00%\n",
      "63 köpa ---------------- from 24.2700 to 24.5400 sec, confidence: 100.00%\n",
      "64 en ------------------ from 24.5400 to 24.6600 sec, confidence: 100.00%\n",
      "65 bostad -------------- from 24.6600 to 25.2600 sec, confidence: 100.00%\n",
      "66 värdinnan ----------- from 26.9700 to 27.6300 sec, confidence: 100.00%\n",
      "67 som ----------------- from 27.6300 to 27.8100 sec, confidence: 100.00%\n",
      "68 hyrde --------------- from 27.8100 to 28.0800 sec, confidence: 62.69%\n",
      "69 ut ------------------ from 28.0840 to 28.5000 sec, confidence: 72.38%\n",
      "70 vind ---------------- from 28.7400 to 29.2200 sec, confidence: 100.00%\n",
      "71 skutan -------------- from 29.2500 to 30.2100 sec, confidence: 100.00%\n",
      "72 och ----------------- from 30.9300 to 31.1400 sec, confidence: 100.00%\n",
      "73 höll ---------------- from 31.1400 to 31.4700 sec, confidence: 100.00%\n",
      "74 honom --------------- from 31.4700 to 31.7100 sec, confidence: 100.00%\n",
      "75 med ----------------- from 31.7100 to 31.9800 sec, confidence: 100.00%\n",
      "76 middag -------------- from 32.1600 to 32.7300 sec, confidence: 100.00%\n",
      "77 som ----------------- from 32.7600 to 32.9100 sec, confidence: 83.62%\n",
      "78 jag ----------------- from 32.9100 to 33.0000 sec, confidence: 83.62%\n",
      "79 mål ----------------- from 33.0000 to 33.2604 sec, confidence: 83.62%\n",
      "80 och ----------------- from 33.2604 to 33.3900 sec, confidence: 88.34%\n",
      "81 städning ------------ from 33.3900 to 34.1400 sec, confidence: 100.00%\n",
      "82 bodde --------------- from 34.1700 to 34.5900 sec, confidence: 59.17%\n",
      "83 för ----------------- from 34.7400 to 34.9791 sec, confidence: 94.89%\n",
      "84 sig ----------------- from 34.9791 to 35.3735 sec, confidence: 62.16%\n",
      "85 i ------------------- from 35.3735 to 35.5307 sec, confidence: 50.54%\n",
      "86 en ------------------ from 35.5307 to 35.6700 sec, confidence: 100.00%\n",
      "87 våningen ------------ from 35.6700 to 36.2400 sec, confidence: 60.41%\n",
      "88 trappar ------------- from 36.2400 to 36.4500 sec, confidence: 43.45%\n",
      "89 trappa -------------- from 36.4500 to 36.6600 sec, confidence: 56.55%\n",
      "90 ner ----------------- from 36.6600 to 37.0500 sec, confidence: 100.00%\n",
      "91 och ----------------- from 37.1700 to 37.4700 sec, confidence: 100.00%\n",
      "92 när ----------------- from 37.4700 to 37.5900 sec, confidence: 100.00%\n",
      "93 han ----------------- from 37.5900 to 37.7400 sec, confidence: 100.00%\n",
      "94 skulle -------------- from 37.7400 to 38.1300 sec, confidence: 100.00%\n",
      "95 ut ------------------ from 38.2800 to 38.6700 sec, confidence: 100.00%\n",
      "96 måste --------------- from 38.7000 to 39.0900 sec, confidence: 100.00%\n",
      "97 hem ----------------- from 39.1200 to 39.4200 sec, confidence: 49.41%\n",
      "98 passera ------------- from 39.4500 to 40.0500 sec, confidence: 100.00%\n",
      "99 värdinnan ----------- from 40.0500 to 40.8000 sec, confidence: 100.00%\n",
      "100 kex ----------------- from 41.0100 to 41.4000 sec, confidence: 100.00%\n",
      "101 ingång -------------- from 41.4000 to 41.9400 sec, confidence: 94.43%\n",
      "102 där ----------------- from 42.2100 to 42.3597 sec, confidence: 47.85%\n",
      "103 döden --------------- from 42.3597 to 42.8385 sec, confidence: 70.22%\n",
      "104 nästan -------------- from 42.8385 to 43.2300 sec, confidence: 53.60%\n",
      "105 alltid -------------- from 43.2600 to 43.6800 sec, confidence: 100.00%\n",
      "106 sture --------------- from 43.6800 to 44.0700 sec, confidence: 39.17%\n",
      "i skymningen en mycket het dag i början av juli lämnade en ung man sin kammare som han hörde vid s grand steg ut på gatan och började långsamt och med samma obeslutsam går bort mot jobb men lyckligtvis slapp han möter värdinnan i kappan fanns kammare som låg alldeles in under den höga fem veckor aning byggnadens tak liknande snart ska jag köpa en bostad värdinnan som hyrde ut vind skutan och höll honom med middag som jag mål och städning bodde för sig i en våningen trappar trappa ner och när han skulle ut måste hem passera värdinnan kex ingång där döden nästan alltid sture\n"
     ]
    },
    {
     "data": {
      "image/png": "[encoded data removed]",
      "text/plain": [
       "<Figure size 1000x200 with 1 Axes>"
      ]
     },
     "metadata": {},
     "output_type": "display_data"
    }
   ],
   "source": [
    "labels_path = (\n",
    "    \"example_speech_Andreas/180923214834-Y20UOTIE-text-000_vowels_timestamp_praat\"\n",
    ")\n",
    "#labels_path = \"wav_examples/digitala_vowels_manual_timestamps.csv\"\n",
    "\n",
    "labels_df = pd.read_csv(labels_path)\n",
    "audio_path = \"audio_preproc/180923214834-Y20UOTIE-text-000_pp.wav\"\n",
    "#audio_path = \"wav_examples/digitala_resurser_sv.wav\"\n",
    "\n",
    "Fs, audio = wavfile.read(audio_path)\n",
    "model_path = \"models/vosk-model-small-sv-rhasspy-0.15/\"\n",
    "\n",
    "if \"model\" not in locals():\n",
    "    model = Model(model_path)\n",
    "\n",
    "words = tools.rec_vosk(audio_path, model, print_summary=True)\n",
    "\n",
    "text = \" \".join([w[\"word\"] for w in words])\n",
    "\n",
    "# get all vowels\n",
    "for w in words:\n",
    "    w[\"vowels\"] = tools.checkVowels(w[\"word\"], tools.VOWELS_SV)\n",
    "\n",
    "\n",
    "print(text)\n",
    "plt.figure(figsize=(10, 2))\n",
    "plt.plot([w[\"conf\"] for w in words], \"*\")\n",
    "plt.title(\"Vosk confidence\")\n",
    "plt.xlabel(\"word\")\n",
    "plt.ylim(bottom=0)\n",
    "plt.show()\n"
   ]
  },
  {
   "cell_type": "code",
   "execution_count": 76,
   "metadata": {},
   "outputs": [
    {
     "name": "stdout",
     "output_type": "stream",
     "text": [
      "trash i\n"
     ]
    },
    {
     "name": "stderr",
     "output_type": "stream",
     "text": [
      "c:\\Users\\tobia\\anaconda3\\Lib\\site-packages\\Signal_Analysis\\features\\signal.py:585: RuntimeWarning: invalid value encountered in divide\n",
      "  r_x = r_a / r_w\n",
      "c:\\Users\\tobia\\anaconda3\\Lib\\site-packages\\Signal_Analysis\\features\\signal.py:625: RuntimeWarning: divide by zero encountered in divide\n",
      "  best_cands = 10.0 * np.log10( best_cands / ( 1.0 - best_cands ) )\n"
     ]
    },
    {
     "name": "stdout",
     "output_type": "stream",
     "text": [
      "keep skymningen\n",
      "trash en\n",
      "trash mycket\n",
      "trash het\n",
      "keep dag\n",
      "keep i\n",
      "trash början\n",
      "keep av\n",
      "trash juli\n",
      "keep lämnade\n",
      "trash en\n",
      "trash ung\n",
      "keep man\n",
      "keep sin\n",
      "trash kammare\n",
      "keep vid\n",
      "trash steg\n",
      "keep ut\n",
      "keep på\n",
      "trash gatan\n",
      "keep och\n",
      "trash långsamt\n",
      "keep och\n",
      "trash obeslutsam\n",
      "trash lyckligtvis\n",
      "keep slapp\n",
      "trash han\n",
      "trash värdinnan\n",
      "trash i\n",
      "trash kammare\n",
      "trash som\n",
      "keep in\n",
      "keep under\n",
      "keep den\n",
      "keep höga\n",
      "trash byggnadens\n",
      "trash tak\n",
      "keep liknande\n",
      "trash snart\n",
      "keep ska\n",
      "keep jag\n",
      "trash köpa\n",
      "keep en\n",
      "keep bostad\n",
      "keep värdinnan\n",
      "keep som\n",
      "keep vind\n",
      "keep skutan\n",
      "trash och\n",
      "trash höll\n",
      "keep honom\n",
      "keep med\n",
      "keep middag\n",
      "trash städning\n",
      "keep en\n",
      "trash ner\n",
      "trash och\n",
      "keep när\n",
      "trash han\n",
      "trash skulle\n",
      "trash ut\n",
      "keep måste\n",
      "trash passera\n",
      "keep värdinnan\n",
      "keep kex\n",
      "trash alltid\n",
      "found vowels:\n",
      "     e 10 27.027%\n",
      "     y 1 20.0%\n",
      "     u 3 30.0%\n",
      "     i 10 43.478%\n",
      "     o 6 33.333%\n",
      "     å 2 25.0%\n",
      "     a 14 28.571%\n",
      "     ö 1 11.111%\n",
      "     ä 4 50.0%\n",
      "total: vowels in text 167\n",
      "37\n",
      "5\n",
      "10\n",
      "23\n",
      "18\n",
      "8\n",
      "49\n",
      "9\n",
      "8\n"
     ]
    }
   ],
   "source": [
    "reload(tools)\n",
    "add_context = False\n",
    "fl = int(0.02 * Fs)\n",
    "grouped_frames = tools.julgran(words, audio, Fs, fl, add_context, long_frame=True)\n",
    "\n",
    "vowels_in_text = {v: 0 for v in tools.VOWELS_SV}\n",
    "for c in tools.checkVowels(text, tools.VOWELS_SV):\n",
    "    vowels_in_text[c] += 1\n",
    "\n",
    "\n",
    "print(\"found vowels:\")\n",
    "for v in grouped_frames.keys():\n",
    "    print(\n",
    "        \"    \",\n",
    "        v,\n",
    "        len(grouped_frames[v][\"frame\"]),\n",
    "        str(round(100 * len(grouped_frames[v][\"frame\"]) / max(vowels_in_text[v], 1), 3))\n",
    "        + \"%\",\n",
    "    )\n",
    "\n",
    "print(\"total: vowels in text\", sum([vowels_in_text[v] for v in vowels_in_text.keys()]))\n",
    "for v in vowels_in_text.keys():\n",
    "    print(vowels_in_text[v])"
   ]
  },
  {
   "cell_type": "code",
   "execution_count": 77,
   "metadata": {},
   "outputs": [
    {
     "name": "stdout",
     "output_type": "stream",
     "text": [
      "total found vowels: 51\n",
      "unique start points: 51\n",
      "unique stop points: 51\n",
      "included: 30\n",
      "Assuming Tobias.exe perfect and all vowels correctly classified:\n",
      "precision: 0.5882352941176471\n",
      "recall: 0.17142857142857143\n"
     ]
    }
   ],
   "source": [
    "reload(tools)\n",
    "starts_all, stops_all, vowels_all = tools.groupedframes_to_lists(grouped_frames)\n",
    "tools.score_vs_labels(starts_all, stops_all, labels_df, vowels=None, snäll=True)"
   ]
  },
  {
   "cell_type": "code",
   "execution_count": 78,
   "metadata": {},
   "outputs": [
    {
     "data": {
      "image/png": "[encoded data removed]",
      "text/plain": [
       "<Figure size 1000x500 with 1 Axes>"
      ]
     },
     "metadata": {},
     "output_type": "display_data"
    }
   ],
   "source": [
    "plt.figure(figsize=(10, 5))\n",
    "\n",
    "tt = np.arange(len(audio)) / Fs\n",
    "plt.plot(tt, audio, alpha=0.6, label=\"audio\")\n",
    "plt.vlines(starts_all, *plt.ylim(), colors=\"r\", label=\"our starts\")\n",
    "plt.vlines(labels_df.tmin, *plt.ylim(), colors=\"g\", label=\"Praat starts\")\n",
    "for tmin, tmax in zip(labels_df.tmin, labels_df.tmax):\n",
    "    plt.axvspan(tmin, tmax, alpha=0.5, color=\"g\")\n",
    "\n",
    "for start, stop in zip(starts_all, stops_all):\n",
    "    plt.axvspan(start, stop, alpha=0.3, color=\"r\")\n",
    "\n",
    "\n",
    "plt.xlabel(\"time (s)\")\n",
    "\n",
    "tr = (0, len(audio) / Fs)\n",
    "\n",
    "plt.xlim(*tr)\n",
    "plt.legend()\n",
    "plt.show()"
   ]
  },
  {
   "cell_type": "code",
   "execution_count": 79,
   "metadata": {},
   "outputs": [],
   "source": [
    "wavfile.write(\n",
    "    \"output/test.wav\", Fs, tools.wavScaler(audio[int(tr[0] * Fs) : int(tr[1] * Fs)])\n",
    ")"
   ]
  },
  {
   "cell_type": "markdown",
   "metadata": {},
   "source": [
    "## outlier filter"
   ]
  },
  {
   "cell_type": "code",
   "execution_count": 80,
   "metadata": {},
   "outputs": [
    {
     "name": "stderr",
     "output_type": "stream",
     "text": [
      "c:\\Users\\tobia\\anaconda3\\Lib\\site-packages\\librosa\\feature\\spectral.py:2143: UserWarning: Empty filters detected in mel frequency basis. Some channels will produce empty responses. Try increasing your sampling rate (and fmax) or reducing n_mels.\n",
      "  mel_basis = filters.mel(sr=sr, n_fft=n_fft, **kwargs)\n"
     ]
    },
    {
     "name": "stdout",
     "output_type": "stream",
     "text": [
      "inliers (e): 80.0 %\n",
      "inliers (y): 100.0 %\n"
     ]
    },
    {
     "name": "stderr",
     "output_type": "stream",
     "text": [
      "c:\\Users\\tobia\\anaconda3\\Lib\\site-packages\\librosa\\feature\\spectral.py:2143: UserWarning: Empty filters detected in mel frequency basis. Some channels will produce empty responses. Try increasing your sampling rate (and fmax) or reducing n_mels.\n",
      "  mel_basis = filters.mel(sr=sr, n_fft=n_fft, **kwargs)\n",
      "c:\\Users\\tobia\\anaconda3\\Lib\\site-packages\\librosa\\feature\\spectral.py:2143: UserWarning: Empty filters detected in mel frequency basis. Some channels will produce empty responses. Try increasing your sampling rate (and fmax) or reducing n_mels.\n",
      "  mel_basis = filters.mel(sr=sr, n_fft=n_fft, **kwargs)\n"
     ]
    },
    {
     "name": "stdout",
     "output_type": "stream",
     "text": [
      "inliers (u): 100.0 %\n",
      "inliers (i): 70.0 %\n"
     ]
    },
    {
     "name": "stderr",
     "output_type": "stream",
     "text": [
      "c:\\Users\\tobia\\anaconda3\\Lib\\site-packages\\librosa\\feature\\spectral.py:2143: UserWarning: Empty filters detected in mel frequency basis. Some channels will produce empty responses. Try increasing your sampling rate (and fmax) or reducing n_mels.\n",
      "  mel_basis = filters.mel(sr=sr, n_fft=n_fft, **kwargs)\n",
      "c:\\Users\\tobia\\anaconda3\\Lib\\site-packages\\librosa\\feature\\spectral.py:2143: UserWarning: Empty filters detected in mel frequency basis. Some channels will produce empty responses. Try increasing your sampling rate (and fmax) or reducing n_mels.\n",
      "  mel_basis = filters.mel(sr=sr, n_fft=n_fft, **kwargs)\n"
     ]
    },
    {
     "name": "stdout",
     "output_type": "stream",
     "text": [
      "inliers (o): 83.0 %\n",
      "inliers (å): 100.0 %\n"
     ]
    },
    {
     "name": "stderr",
     "output_type": "stream",
     "text": [
      "c:\\Users\\tobia\\anaconda3\\Lib\\site-packages\\librosa\\feature\\spectral.py:2143: UserWarning: Empty filters detected in mel frequency basis. Some channels will produce empty responses. Try increasing your sampling rate (and fmax) or reducing n_mels.\n",
      "  mel_basis = filters.mel(sr=sr, n_fft=n_fft, **kwargs)\n",
      "c:\\Users\\tobia\\anaconda3\\Lib\\site-packages\\librosa\\feature\\spectral.py:2143: UserWarning: Empty filters detected in mel frequency basis. Some channels will produce empty responses. Try increasing your sampling rate (and fmax) or reducing n_mels.\n",
      "  mel_basis = filters.mel(sr=sr, n_fft=n_fft, **kwargs)\n"
     ]
    },
    {
     "name": "stdout",
     "output_type": "stream",
     "text": [
      "inliers (a): 64.0 %\n",
      "inliers (ö): 100.0 %\n"
     ]
    },
    {
     "name": "stderr",
     "output_type": "stream",
     "text": [
      "c:\\Users\\tobia\\anaconda3\\Lib\\site-packages\\librosa\\feature\\spectral.py:2143: UserWarning: Empty filters detected in mel frequency basis. Some channels will produce empty responses. Try increasing your sampling rate (and fmax) or reducing n_mels.\n",
      "  mel_basis = filters.mel(sr=sr, n_fft=n_fft, **kwargs)\n",
      "c:\\Users\\tobia\\anaconda3\\Lib\\site-packages\\librosa\\feature\\spectral.py:2143: UserWarning: Empty filters detected in mel frequency basis. Some channels will produce empty responses. Try increasing your sampling rate (and fmax) or reducing n_mels.\n",
      "  mel_basis = filters.mel(sr=sr, n_fft=n_fft, **kwargs)\n"
     ]
    },
    {
     "name": "stdout",
     "output_type": "stream",
     "text": [
      "inliers (ä): 75.0 %\n",
      "total found vowels: 39\n",
      "unique start points: 39\n",
      "included: 0\n",
      "Assuming Tobias.exe perfect and all vowels correctly classified:\n",
      "precision: 0.0\n",
      "recall: 0.0\n"
     ]
    }
   ],
   "source": [
    "reload(tools)\n",
    "frames_inliers = tools.outlier_filter(grouped_frames, Fs)\n",
    "starts_all_seconds_in, stops_all_seconds_in = tools.get_start_stop_seconds(\n",
    "    frames_inliers, fl, Fs\n",
    ")\n",
    "\n",
    "tools.score_vs_labels(starts_all_seconds_in, stops_all_seconds_in, labels_df)"
   ]
  }
 ],
 "metadata": {
  "kernelspec": {
   "display_name": "timeseries",
   "language": "python",
   "name": "python3"
  },
  "language_info": {
   "codemirror_mode": {
    "name": "ipython",
    "version": 3
   },
   "file_extension": ".py",
   "mimetype": "text/x-python",
   "name": "python",
   "nbconvert_exporter": "python",
   "pygments_lexer": "ipython3",
   "version": "3.11.7"
  }
 },
 "nbformat": 4,
 "nbformat_minor": 2
}
