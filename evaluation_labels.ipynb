{
 "cells": [
  {
   "cell_type": "code",
   "execution_count": 36,
   "metadata": {},
   "outputs": [],
   "source": [
    "import numpy as np\n",
    "from scipy.io import wavfile\n",
    "import matplotlib.pyplot as plt\n",
    "import matplotlib as mpl\n",
    "from importlib import reload\n",
    "from vosk import Model\n",
    "from Signal_Analysis.features.signal import get_HNR\n",
    "from scipy import signal\n",
    "from audiostretchy.stretch import stretch_audio\n",
    "import pandas as pd\n",
    "\n",
    "# tools work in progress\n",
    "import tools\n",
    "\n",
    "reload(tools)\n",
    "\n",
    "plt.style.use(\"dark_background\")\n",
    "mpl.rcParams[\"lines.linewidth\"] = 0.5\n",
    "plt.close(\"all\")"
   ]
  },
  {
   "cell_type": "markdown",
   "metadata": {},
   "source": [
    "## audio, labels, speech recognition"
   ]
  },
  {
   "cell_type": "code",
   "execution_count": 37,
   "metadata": {},
   "outputs": [
    {
     "name": "stdout",
     "output_type": "stream",
     "text": [
      "i 0.3 - 0.42\n",
      "skymningen 0.42 - 1.26\n",
      "en 1.35 - 1.5\n",
      "mycket 1.5 - 1.8\n",
      "het 1.83 - 2.1\n",
      "dag 2.1 - 2.43\n",
      "i 2.43 - 2.52\n",
      "början 2.52 - 2.79\n",
      "av 2.79 - 2.91\n",
      "juli 2.91 - 3.36\n",
      "lämnade 3.36 - 3.99\n",
      "en 3.99 - 4.14\n",
      "ung 4.14 - 4.41\n",
      "man 4.41 - 4.68\n",
      "sin 4.68 - 4.92\n",
      "kammare 4.92 - 5.58\n",
      "vid 6.48 - 6.69\n",
      "steg 7.8 - 8.13\n",
      "ut 8.13 - 8.31\n",
      "på 8.31 - 8.43\n",
      "gatan 8.43 - 9.06\n",
      "och 9.06 - 9.18\n",
      "långsamt 9.68798 - 10.47\n",
      "och 10.47 - 10.59\n",
      "obeslutsam 11.07 - 12.06\n",
      "lyckligtvis 14.04 - 14.79\n",
      "slapp 14.79 - 15.06\n",
      "han 15.06 - 15.21\n",
      "värdinnan 15.57 - 16.08\n",
      "i 16.08 - 16.148024\n",
      "kammare 17.25 - 17.94\n",
      "som 18.0 - 18.21\n",
      "in 19.11 - 19.29\n",
      "under 19.32 - 19.74\n",
      "den 19.74 - 19.92\n",
      "höga 19.92 - 20.340363\n",
      "byggnadens 21.48 - 22.17\n",
      "tak 22.17 - 22.68\n",
      "liknande 22.92 - 23.37\n",
      "snart 23.4 - 23.85\n",
      "ska 23.88 - 24.15\n",
      "jag 24.15 - 24.27\n",
      "köpa 24.27 - 24.51\n",
      "en 24.51 - 24.66\n",
      "bostad 24.66 - 25.26\n",
      "värdinnan 26.97 - 27.63\n",
      "som 27.63 - 27.81\n",
      "vind 28.74 - 29.22\n",
      "skutan 29.25 - 30.21\n",
      "och 30.93 - 31.14\n",
      "höll 31.14 - 31.47\n",
      "honom 31.47 - 31.71\n",
      "med 31.71 - 31.98\n",
      "med 32.828467 - 33.0\n",
      "mål 33.0 - 33.27\n",
      "och 33.27 - 33.39\n",
      "städning 33.39 - 34.14\n",
      "en 35.5324 - 35.7\n",
      "ner 36.66 - 37.05\n",
      "och 37.2 - 37.47\n",
      "när 37.47 - 37.62\n",
      "han 37.62 - 37.74\n",
      "skulle 37.74 - 38.13\n",
      "ut 38.28 - 38.67\n",
      "måste 38.7 - 39.09\n",
      "passera 39.45 - 40.05\n",
      "värdinnan 40.05 - 40.8\n",
      "kex 41.01 - 41.4\n",
      "alltid 43.26 - 43.68\n"
     ]
    },
    {
     "data": {
      "image/png": "[encoded data removed]",
      "text/plain": [
       "<Figure size 1000x200 with 1 Axes>"
      ]
     },
     "metadata": {},
     "output_type": "display_data"
    }
   ],
   "source": [
    "labels_path = (\n",
    "    \"example_speech_Andreas/180923214834-Y20UOTIE-text-000_vowels_timestamp_manual.csv\"\n",
    ")\n",
    "#labels_path = \"wav_examples/digitala_vowels_manual_timestamps.csv\"\n",
    "\n",
    "labels_df = pd.read_csv(labels_path)\n",
    "audio_path = \"audio_preproc/180923214834-Y20UOTIE-text-000_pp.wav\"\n",
    "#audio_path = \"wav_examples/digitala_resurser_sv.wav\"\n",
    "\n",
    "Fs, audio = wavfile.read(audio_path)\n",
    "model_path = \"models/vosk-model-small-sv-rhasspy-0.15/\"\n",
    "\n",
    "if \"model\" not in locals():\n",
    "    model = Model(model_path)\n",
    "\n",
    "words = tools.rec_vosk(audio_path, model, print_summary=False)\n",
    "\n",
    "text = \" \".join([w[\"word\"] for w in words])\n",
    "\n",
    "# get all vowels\n",
    "for w in words:\n",
    "    w[\"vowels\"] = tools.checkVowels(w[\"word\"], tools.VOWELS_SV)\n",
    "    if w[\"conf\"] == 1:\n",
    "        print(w[\"word\"],w[\"start\"],\"-\",w[\"end\"])\n",
    "\n",
    "\n",
    "#print(text)\n",
    "plt.figure(figsize=(10, 2))\n",
    "plt.plot([w[\"conf\"] for w in words], \"*\")\n",
    "plt.title(\"Vosk confidence\")\n",
    "plt.xlabel(\"word\")\n",
    "plt.ylim(bottom=0)\n",
    "plt.show()\n"
   ]
  },
  {
   "cell_type": "code",
   "execution_count": 38,
   "metadata": {},
   "outputs": [
    {
     "name": "stderr",
     "output_type": "stream",
     "text": [
      "c:\\Users\\tobia\\anaconda3\\Lib\\site-packages\\Signal_Analysis\\features\\signal.py:585: RuntimeWarning: invalid value encountered in divide\n",
      "  r_x = r_a / r_w\n"
     ]
    },
    {
     "name": "stdout",
     "output_type": "stream",
     "text": [
      "keep i\n",
      "keep skymningen\n",
      "trash en\n",
      "trash mycket\n",
      "trash het\n"
     ]
    },
    {
     "name": "stderr",
     "output_type": "stream",
     "text": [
      "c:\\Users\\tobia\\anaconda3\\Lib\\site-packages\\Signal_Analysis\\features\\signal.py:625: RuntimeWarning: divide by zero encountered in divide\n",
      "  best_cands = 10.0 * np.log10( best_cands / ( 1.0 - best_cands ) )\n"
     ]
    },
    {
     "name": "stdout",
     "output_type": "stream",
     "text": [
      "keep dag\n",
      "keep i\n",
      "trash början\n",
      "keep av\n",
      "trash juli\n",
      "keep lämnade\n",
      "trash en\n",
      "trash ung\n",
      "keep man\n",
      "keep sin\n",
      "trash kammare\n",
      "keep vid\n",
      "trash steg\n",
      "keep ut\n",
      "keep på\n",
      "trash gatan\n",
      "keep och\n",
      "trash långsamt\n",
      "keep och\n",
      "trash obeslutsam\n",
      "trash lyckligtvis\n",
      "keep slapp\n",
      "trash han\n",
      "trash värdinnan\n",
      "trash i\n",
      "trash kammare\n",
      "trash som\n",
      "keep in\n",
      "keep under\n",
      "keep den\n",
      "keep höga\n",
      "trash byggnadens\n",
      "trash tak\n",
      "keep liknande\n",
      "trash snart\n",
      "keep ska\n",
      "keep jag\n",
      "trash köpa\n",
      "trash en\n",
      "keep bostad\n",
      "keep värdinnan\n",
      "keep som\n",
      "keep vind\n",
      "keep skutan\n",
      "trash och\n",
      "trash höll\n",
      "keep honom\n",
      "keep med\n",
      "keep med\n",
      "keep mål\n",
      "trash och\n",
      "trash städning\n",
      "keep en\n",
      "trash ner\n",
      "trash och\n",
      "keep när\n",
      "keep han\n",
      "trash skulle\n",
      "trash ut\n",
      "keep måste\n",
      "trash passera\n",
      "keep värdinnan\n",
      "keep kex\n",
      "trash alltid\n",
      "found vowels:\n",
      "     e 10 26.316%\n",
      "     y 1 20.0%\n",
      "     u 3 30.0%\n",
      "     i 10 43.478%\n",
      "     o 6 35.294%\n",
      "     å 3 37.5%\n",
      "     a 14 31.111%\n",
      "     ö 1 11.111%\n",
      "     ä 4 50.0%\n",
      "total: vowels in text 163\n",
      "38\n",
      "5\n",
      "10\n",
      "23\n",
      "17\n",
      "8\n",
      "45\n",
      "9\n",
      "8\n"
     ]
    }
   ],
   "source": [
    "reload(tools)\n",
    "add_context = False\n",
    "fl = int(0.02 * Fs)\n",
    "grouped_frames = tools.extract_vowels(words, audio, Fs, fl, add_context = False, long_frame=True)\n",
    "\n",
    "vowels_in_text = {v: 0 for v in tools.VOWELS_SV}\n",
    "for c in tools.checkVowels(text, tools.VOWELS_SV):\n",
    "    vowels_in_text[c] += 1\n",
    "\n",
    "\n",
    "print(\"found vowels:\")\n",
    "for v in grouped_frames.keys():\n",
    "    print(\n",
    "        \"    \",\n",
    "        v,\n",
    "        len(grouped_frames[v][\"frame\"]),\n",
    "        str(round(100 * len(grouped_frames[v][\"frame\"]) / max(vowels_in_text[v], 1), 3))\n",
    "        + \"%\",\n",
    "    )\n",
    "\n",
    "print(\"total: vowels in text\", sum([vowels_in_text[v] for v in vowels_in_text.keys()]))\n",
    "for v in vowels_in_text.keys():\n",
    "    print(vowels_in_text[v])"
   ]
  },
  {
   "cell_type": "code",
   "execution_count": 44,
   "metadata": {},
   "outputs": [
    {
     "name": "stdout",
     "output_type": "stream",
     "text": [
      "total found vowels: 52\n",
      "unique start points: 52\n",
      "unique stop points: 52\n",
      "Classification errors:\n",
      "- at 3.7s:\n",
      "    We got a\n",
      "    Correct vowel ä\n",
      "- at 9.14s:\n",
      "    We got o\n",
      "    Correct vowel i\n",
      "- at 10.51s:\n",
      "    We got o\n",
      "    Correct vowel i\n",
      "- at 19.52s:\n",
      "    We got e\n",
      "    Correct vowel i\n",
      "- at 19.88s:\n",
      "    We got e\n",
      "    Correct vowel i\n",
      "- at 19.98s:\n",
      "    We got ö\n",
      "    Correct vowel i\n",
      "- at 27.35s:\n",
      "    We got ä\n",
      "    Correct vowel i\n",
      "- at 27.51s:\n",
      "    We got a\n",
      "    Correct vowel i\n",
      "- at 30.07s:\n",
      "    We got a\n",
      "    Correct vowel i\n",
      "- at 31.57s:\n",
      "    We got o\n",
      "    Correct vowel i\n",
      "- at 32.92845804988662s:\n",
      "    We got e\n",
      "    Correct vowel i\n",
      "- at 38.78s:\n",
      "    We got e\n",
      "    Correct vowel å\n",
      "- at 40.47s:\n",
      "    We got ä\n",
      "    Correct vowel i\n",
      "------------------------------\n",
      "precision: 21.154% (11/52)\n",
      "recall: 9.565% (11/115)\n"
     ]
    },
    {
     "data": {
      "text/plain": [
       "(0.21153846153846154, 0.09565217391304348)"
      ]
     },
     "execution_count": 44,
     "metadata": {},
     "output_type": "execute_result"
    }
   ],
   "source": [
    "reload(tools)\n",
    "starts_all, stops_all, vowels_all = tools.groupedframes_to_lists(grouped_frames)\n",
    "tools.score_vs_labels(starts_all, stops_all, labels_df, vowels=vowels_all, accept_partial=True)"
   ]
  },
  {
   "cell_type": "code",
   "execution_count": 40,
   "metadata": {},
   "outputs": [
    {
     "name": "stderr",
     "output_type": "stream",
     "text": [
      "c:\\Users\\tobia\\anaconda3\\Lib\\site-packages\\IPython\\core\\pylabtools.py:152: UserWarning: Creating legend with loc=\"best\" can be slow with large amounts of data.\n",
      "  fig.canvas.print_figure(bytes_io, **kw)\n"
     ]
    },
    {
     "data": {
      "image/png": "[encoded data removed]",
      "text/plain": [
       "<Figure size 1000x500 with 1 Axes>"
      ]
     },
     "metadata": {},
     "output_type": "display_data"
    }
   ],
   "source": [
    "plt.figure(figsize=(10, 5))\n",
    "\n",
    "tt = np.arange(len(audio)) / Fs\n",
    "plt.plot(tt, audio, alpha=0.6, label=\"audio\")\n",
    "plt.vlines(starts_all, *plt.ylim(), colors=\"r\", label=\"our starts\")\n",
    "plt.vlines(labels_df.tmin, *plt.ylim(), colors=\"g\", label=\"manual label starts\")\n",
    "for tmin, tmax in zip(labels_df.tmin, labels_df.tmax):\n",
    "    plt.axvspan(tmin, tmax, alpha=0.5, color=\"g\")\n",
    "\n",
    "for start, stop in zip(starts_all, stops_all):\n",
    "    plt.axvspan(start, stop, alpha=0.3, color=\"r\")\n",
    "\n",
    "\n",
    "plt.xlabel(\"time (s)\")\n",
    "\n",
    "tr = (0, len(audio) / Fs)\n",
    "#tr = (4,5.3)\n",
    "\n",
    "plt.xlim(*tr)\n",
    "plt.legend()\n",
    "plt.show()"
   ]
  },
  {
   "cell_type": "code",
   "execution_count": 41,
   "metadata": {},
   "outputs": [],
   "source": [
    "wavfile.write(\n",
    "    \"output/test.wav\", Fs, tools.wavScaler(audio[int(tr[0] * Fs) : int(tr[1] * Fs)])\n",
    ")"
   ]
  },
  {
   "cell_type": "markdown",
   "metadata": {},
   "source": [
    "## outlier filter"
   ]
  },
  {
   "cell_type": "code",
   "execution_count": 42,
   "metadata": {},
   "outputs": [
    {
     "name": "stderr",
     "output_type": "stream",
     "text": [
      "c:\\Users\\tobia\\anaconda3\\Lib\\site-packages\\librosa\\feature\\spectral.py:2143: UserWarning: Empty filters detected in mel frequency basis. Some channels will produce empty responses. Try increasing your sampling rate (and fmax) or reducing n_mels.\n",
      "  mel_basis = filters.mel(sr=sr, n_fft=n_fft, **kwargs)\n"
     ]
    },
    {
     "name": "stdout",
     "output_type": "stream",
     "text": [
      "inliers (e): 60.0 %\n"
     ]
    },
    {
     "name": "stderr",
     "output_type": "stream",
     "text": [
      "c:\\Users\\tobia\\anaconda3\\Lib\\site-packages\\librosa\\feature\\spectral.py:2143: UserWarning: Empty filters detected in mel frequency basis. Some channels will produce empty responses. Try increasing your sampling rate (and fmax) or reducing n_mels.\n",
      "  mel_basis = filters.mel(sr=sr, n_fft=n_fft, **kwargs)\n"
     ]
    },
    {
     "name": "stdout",
     "output_type": "stream",
     "text": [
      "inliers (y): 100.0 %\n"
     ]
    },
    {
     "name": "stderr",
     "output_type": "stream",
     "text": [
      "c:\\Users\\tobia\\anaconda3\\Lib\\site-packages\\librosa\\feature\\spectral.py:2143: UserWarning: Empty filters detected in mel frequency basis. Some channels will produce empty responses. Try increasing your sampling rate (and fmax) or reducing n_mels.\n",
      "  mel_basis = filters.mel(sr=sr, n_fft=n_fft, **kwargs)\n"
     ]
    },
    {
     "name": "stdout",
     "output_type": "stream",
     "text": [
      "inliers (u): 100.0 %\n"
     ]
    },
    {
     "name": "stderr",
     "output_type": "stream",
     "text": [
      "c:\\Users\\tobia\\anaconda3\\Lib\\site-packages\\librosa\\feature\\spectral.py:2143: UserWarning: Empty filters detected in mel frequency basis. Some channels will produce empty responses. Try increasing your sampling rate (and fmax) or reducing n_mels.\n",
      "  mel_basis = filters.mel(sr=sr, n_fft=n_fft, **kwargs)\n"
     ]
    },
    {
     "name": "stdout",
     "output_type": "stream",
     "text": [
      "inliers (i): 70.0 %\n"
     ]
    },
    {
     "name": "stderr",
     "output_type": "stream",
     "text": [
      "c:\\Users\\tobia\\anaconda3\\Lib\\site-packages\\librosa\\feature\\spectral.py:2143: UserWarning: Empty filters detected in mel frequency basis. Some channels will produce empty responses. Try increasing your sampling rate (and fmax) or reducing n_mels.\n",
      "  mel_basis = filters.mel(sr=sr, n_fft=n_fft, **kwargs)\n"
     ]
    },
    {
     "name": "stdout",
     "output_type": "stream",
     "text": [
      "inliers (o): 83.0 %\n"
     ]
    },
    {
     "name": "stderr",
     "output_type": "stream",
     "text": [
      "c:\\Users\\tobia\\anaconda3\\Lib\\site-packages\\librosa\\feature\\spectral.py:2143: UserWarning: Empty filters detected in mel frequency basis. Some channels will produce empty responses. Try increasing your sampling rate (and fmax) or reducing n_mels.\n",
      "  mel_basis = filters.mel(sr=sr, n_fft=n_fft, **kwargs)\n"
     ]
    },
    {
     "name": "stdout",
     "output_type": "stream",
     "text": [
      "inliers (å): 100.0 %\n"
     ]
    },
    {
     "name": "stderr",
     "output_type": "stream",
     "text": [
      "c:\\Users\\tobia\\anaconda3\\Lib\\site-packages\\librosa\\feature\\spectral.py:2143: UserWarning: Empty filters detected in mel frequency basis. Some channels will produce empty responses. Try increasing your sampling rate (and fmax) or reducing n_mels.\n",
      "  mel_basis = filters.mel(sr=sr, n_fft=n_fft, **kwargs)\n"
     ]
    },
    {
     "name": "stdout",
     "output_type": "stream",
     "text": [
      "inliers (a): 71.0 %\n"
     ]
    },
    {
     "name": "stderr",
     "output_type": "stream",
     "text": [
      "c:\\Users\\tobia\\anaconda3\\Lib\\site-packages\\librosa\\feature\\spectral.py:2143: UserWarning: Empty filters detected in mel frequency basis. Some channels will produce empty responses. Try increasing your sampling rate (and fmax) or reducing n_mels.\n",
      "  mel_basis = filters.mel(sr=sr, n_fft=n_fft, **kwargs)\n"
     ]
    },
    {
     "name": "stdout",
     "output_type": "stream",
     "text": [
      "inliers (ö): 100.0 %\n"
     ]
    },
    {
     "name": "stderr",
     "output_type": "stream",
     "text": [
      "c:\\Users\\tobia\\anaconda3\\Lib\\site-packages\\librosa\\feature\\spectral.py:2143: UserWarning: Empty filters detected in mel frequency basis. Some channels will produce empty responses. Try increasing your sampling rate (and fmax) or reducing n_mels.\n",
      "  mel_basis = filters.mel(sr=sr, n_fft=n_fft, **kwargs)\n"
     ]
    },
    {
     "name": "stdout",
     "output_type": "stream",
     "text": [
      "inliers (ä): 75.0 %\n"
     ]
    },
    {
     "ename": "AttributeError",
     "evalue": "module 'tools' has no attribute 'get_start_stop_seconds'",
     "output_type": "error",
     "traceback": [
      "\u001b[1;31m---------------------------------------------------------------------------\u001b[0m",
      "\u001b[1;31mAttributeError\u001b[0m                            Traceback (most recent call last)",
      "Cell \u001b[1;32mIn[42], line 3\u001b[0m\n\u001b[0;32m      1\u001b[0m reload(tools)\n\u001b[0;32m      2\u001b[0m frames_inliers \u001b[38;5;241m=\u001b[39m tools\u001b[38;5;241m.\u001b[39moutlier_filter(grouped_frames, Fs)\n\u001b[1;32m----> 3\u001b[0m starts_all_seconds_in, stops_all_seconds_in \u001b[38;5;241m=\u001b[39m tools\u001b[38;5;241m.\u001b[39mget_start_stop_seconds(\n\u001b[0;32m      4\u001b[0m     frames_inliers, fl, Fs\n\u001b[0;32m      5\u001b[0m )\n\u001b[0;32m      7\u001b[0m tools\u001b[38;5;241m.\u001b[39mscore_vs_labels(starts_all_seconds_in, stops_all_seconds_in, labels_df)\n",
      "\u001b[1;31mAttributeError\u001b[0m: module 'tools' has no attribute 'get_start_stop_seconds'"
     ]
    }
   ],
   "source": [
    "reload(tools)\n",
    "frames_inliers = tools.outlier_filter(grouped_frames, Fs)\n",
    "starts_all_seconds_in, stops_all_seconds_in = tools.get_start_stop_seconds(\n",
    "    frames_inliers, fl, Fs\n",
    ")\n",
    "\n",
    "tools.score_vs_labels(starts_all_seconds_in, stops_all_seconds_in, labels_df)"
   ]
  }
 ],
 "metadata": {
  "kernelspec": {
   "display_name": "timeseries",
   "language": "python",
   "name": "python3"
  },
  "language_info": {
   "codemirror_mode": {
    "name": "ipython",
    "version": 3
   },
   "file_extension": ".py",
   "mimetype": "text/x-python",
   "name": "python",
   "nbconvert_exporter": "python",
   "pygments_lexer": "ipython3",
   "version": "3.11.7"
  }
 },
 "nbformat": 4,
 "nbformat_minor": 2
}
