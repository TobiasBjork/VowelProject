{
 "cells": [
  {
   "cell_type": "code",
   "execution_count": 35,
   "metadata": {},
   "outputs": [
    {
     "name": "stdout",
     "output_type": "stream",
     "text": [
      "HEJdådå\n"
     ]
    }
   ],
   "source": [
    "from scipy.io import wavfile\n",
    "import matplotlib.pyplot as plt\n",
    "import matplotlib as mpl\n",
    "from importlib import reload\n",
    "from vosk import Model\n",
    "from folderFunctions import *\n",
    "\n",
    "\n",
    "# tools work in progress\n",
    "import tools\n",
    "\n",
    "reload(tools)\n",
    "from tools import *\n",
    "\n",
    "plt.style.use(\"dark_background\")\n",
    "mpl.rcParams[\"lines.linewidth\"] = 0.5\n",
    "plt.close(\"all\")"
   ]
  },
  {
   "cell_type": "code",
   "execution_count": 25,
   "metadata": {},
   "outputs": [
    {
     "name": "stdout",
     "output_type": "stream",
     "text": [
      "45.09315192743764 sekunder\n"
     ]
    }
   ],
   "source": [
    "#andreas_path = \"Inspelning (3).wav\"\n",
    "andreas_path = \"example_speech_Andreas/180923214834-Y20UOTIE-text-000.wav\"\n",
    "Fs, x = wavfile.read(andreas_path)\n",
    "x = x[:,0]\n",
    "x = x / x.std()\n",
    "print(len(x)/Fs,\"sekunder\")\n",
    "\n",
    "digital_path = \"wav_examples/digitala_resurser_sv.wav\"\n",
    "Fs_2, x_2 = wavfile.read(digital_path)\n",
    "x_2 = x_2 / x_2.std()"
   ]
  },
  {
   "cell_type": "code",
   "execution_count": 26,
   "metadata": {},
   "outputs": [
    {
     "name": "stdout",
     "output_type": "stream",
     "text": [
      "preprocessing 180923214834-Y20UOTIE-text-000\n"
     ]
    }
   ],
   "source": [
    "#pre-process andreas to mono\n",
    "path_output = \"audio_preproc/\"\n",
    "_ = preprocess(andreas_path, path_output)\n"
   ]
  },
  {
   "cell_type": "code",
   "execution_count": 27,
   "metadata": {},
   "outputs": [],
   "source": [
    "model_path = \"models/vosk-model-small-sv-rhasspy-0.15/\"\n",
    "model = Model(model_path)"
   ]
  },
  {
   "cell_type": "code",
   "execution_count": 28,
   "metadata": {},
   "outputs": [
    {
     "name": "stdout",
     "output_type": "stream",
     "text": [
      "i ------------------- from 0.27 to 0.42 sec, confidence: 100.00%\n",
      "skymningen ---------- from 0.42 to 1.26 sec, confidence: 100.00%\n",
      "en ------------------ from 1.35 to 1.50 sec, confidence: 100.00%\n",
      "mycket -------------- from 1.50 to 1.80 sec, confidence: 100.00%\n",
      "het ----------------- from 1.83 to 2.10 sec, confidence: 100.00%\n",
      "dag ----------------- from 2.10 to 2.43 sec, confidence: 100.00%\n",
      "i ------------------- from 2.43 to 2.52 sec, confidence: 100.00%\n",
      "början -------------- from 2.52 to 2.79 sec, confidence: 100.00%\n",
      "av ------------------ from 2.79 to 2.91 sec, confidence: 100.00%\n",
      "juli ---------------- from 2.91 to 3.36 sec, confidence: 100.00%\n",
      "lämnade ------------- from 3.36 to 3.99 sec, confidence: 100.00%\n",
      "en ------------------ from 3.99 to 4.14 sec, confidence: 100.00%\n",
      "ung ----------------- from 4.14 to 4.41 sec, confidence: 100.00%\n",
      "man ----------------- from 4.41 to 4.68 sec, confidence: 100.00%\n",
      "sin ----------------- from 4.68 to 4.92 sec, confidence: 100.00%\n",
      "kammare ------------- from 4.92 to 5.58 sec, confidence: 100.00%\n",
      "som ----------------- from 5.79 to 5.97 sec, confidence: 87.99%\n",
      "han ----------------- from 5.97 to 6.09 sec, confidence: 74.98%\n",
      "hörde --------------- from 6.09 to 6.48 sec, confidence: 67.00%\n",
      "vid ----------------- from 6.48 to 6.69 sec, confidence: 100.00%\n",
      "s ------------------- from 6.72 to 7.05 sec, confidence: 88.82%\n",
      "grand --------------- from 7.05 to 7.53 sec, confidence: 59.44%\n",
      "steg ---------------- from 7.80 to 8.13 sec, confidence: 100.00%\n",
      "ut ------------------ from 8.13 to 8.31 sec, confidence: 100.00%\n",
      "på ------------------ from 8.31 to 8.43 sec, confidence: 100.00%\n",
      "gatan --------------- from 8.43 to 9.06 sec, confidence: 100.00%\n",
      "och ----------------- from 9.06 to 9.18 sec, confidence: 100.00%\n",
      "började ------------- from 9.18 to 9.69 sec, confidence: 82.29%\n",
      "långsamt ------------ from 9.69 to 10.47 sec, confidence: 100.00%\n",
      "och ----------------- from 10.47 to 10.59 sec, confidence: 100.00%\n",
      "med ----------------- from 10.59 to 10.77 sec, confidence: 64.61%\n",
      "samma --------------- from 10.77 to 11.04 sec, confidence: 34.05%\n",
      "obeslutsam ---------- from 11.07 to 12.06 sec, confidence: 100.00%\n",
      "går ----------------- from 12.12 to 12.39 sec, confidence: 66.72%\n",
      "bort ---------------- from 12.39 to 12.69 sec, confidence: 88.54%\n",
      "mot ----------------- from 12.69 to 12.92 sec, confidence: 64.17%\n",
      "jobb ---------------- from 12.92 to 13.32 sec, confidence: 71.98%\n",
      "men ----------------- from 13.32 to 13.53 sec, confidence: 40.90%\n",
      "lyckligtvis --------- from 14.04 to 14.79 sec, confidence: 100.00%\n",
      "slapp --------------- from 14.79 to 15.06 sec, confidence: 100.00%\n",
      "han ----------------- from 15.06 to 15.21 sec, confidence: 100.00%\n",
      "möter --------------- from 15.21 to 15.57 sec, confidence: 72.76%\n",
      "värdinnan ----------- from 15.57 to 16.08 sec, confidence: 100.00%\n",
      "i ------------------- from 16.08 to 16.15 sec, confidence: 100.00%\n",
      "kappan -------------- from 16.15 to 16.68 sec, confidence: 52.52%\n",
      "fanns --------------- from 17.01 to 17.25 sec, confidence: 50.07%\n",
      "kammare ------------- from 17.25 to 17.94 sec, confidence: 100.00%\n",
      "som ----------------- from 18.00 to 18.21 sec, confidence: 100.00%\n",
      "låg ----------------- from 18.21 to 18.42 sec, confidence: 77.59%\n",
      "alldeles ------------ from 18.42 to 18.92 sec, confidence: 77.59%\n",
      "in ------------------ from 19.11 to 19.29 sec, confidence: 100.00%\n",
      "under --------------- from 19.32 to 19.74 sec, confidence: 100.00%\n",
      "den ----------------- from 19.74 to 19.92 sec, confidence: 100.00%\n",
      "höga ---------------- from 19.92 to 20.34 sec, confidence: 100.00%\n",
      "fem ----------------- from 20.34 to 20.64 sec, confidence: 82.79%\n",
      "veckor -------------- from 20.64 to 20.88 sec, confidence: 22.24%\n",
      "aning --------------- from 21.12 to 21.36 sec, confidence: 44.67%\n",
      "speglar ------------- from 21.36 to 21.86 sec, confidence: 55.41%\n",
      "minst --------------- from 21.86 to 22.23 sec, confidence: 100.00%\n",
      "ha ------------------ from 22.23 to 22.56 sec, confidence: 100.00%\n",
      "liknande ------------ from 22.92 to 23.37 sec, confidence: 100.00%\n",
      "snart --------------- from 23.40 to 23.85 sec, confidence: 100.00%\n",
      "ska ----------------- from 23.88 to 24.15 sec, confidence: 100.00%\n",
      "jag ----------------- from 24.15 to 24.27 sec, confidence: 100.00%\n",
      "köpa ---------------- from 24.27 to 24.51 sec, confidence: 100.00%\n",
      "en ------------------ from 24.51 to 24.66 sec, confidence: 100.00%\n",
      "bostad -------------- from 24.66 to 25.26 sec, confidence: 100.00%\n",
      "värdinnan ----------- from 26.97 to 27.63 sec, confidence: 100.00%\n",
      "som ----------------- from 27.63 to 27.81 sec, confidence: 100.00%\n",
      "hyrde --------------- from 27.81 to 28.08 sec, confidence: 64.03%\n",
      "ut ------------------ from 28.08 to 28.50 sec, confidence: 74.18%\n",
      "vind ---------------- from 28.74 to 29.22 sec, confidence: 100.00%\n",
      "skutan -------------- from 29.25 to 30.21 sec, confidence: 100.00%\n",
      "och ----------------- from 30.93 to 31.14 sec, confidence: 100.00%\n",
      "höll ---------------- from 31.14 to 31.47 sec, confidence: 100.00%\n",
      "honom --------------- from 31.47 to 31.71 sec, confidence: 100.00%\n",
      "med ----------------- from 31.71 to 32.01 sec, confidence: 100.00%\n",
      "middag -------------- from 32.16 to 32.73 sec, confidence: 100.00%\n",
      "som ----------------- from 32.76 to 32.91 sec, confidence: 81.61%\n",
      "jag ----------------- from 32.91 to 33.00 sec, confidence: 81.61%\n",
      "mål ----------------- from 33.00 to 33.26 sec, confidence: 81.61%\n",
      "och ----------------- from 33.26 to 33.39 sec, confidence: 87.06%\n",
      "städning ------------ from 33.39 to 34.14 sec, confidence: 100.00%\n",
      "bodde --------------- from 34.17 to 34.59 sec, confidence: 59.50%\n",
      "för ----------------- from 34.74 to 34.95 sec, confidence: 95.21%\n",
      "sig ----------------- from 34.95 to 35.37 sec, confidence: 61.16%\n",
      "i ------------------- from 35.37 to 35.53 sec, confidence: 49.47%\n",
      "en ------------------ from 35.53 to 35.67 sec, confidence: 100.00%\n",
      "våningen ------------ from 35.67 to 36.24 sec, confidence: 60.25%\n",
      "trappa -------------- from 36.24 to 36.66 sec, confidence: 57.06%\n",
      "ner ----------------- from 36.66 to 37.05 sec, confidence: 100.00%\n",
      "och ----------------- from 37.20 to 37.47 sec, confidence: 100.00%\n",
      "när ----------------- from 37.47 to 37.62 sec, confidence: 100.00%\n",
      "han ----------------- from 37.62 to 37.74 sec, confidence: 88.48%\n",
      "skulle -------------- from 37.74 to 38.13 sec, confidence: 100.00%\n",
      "ut ------------------ from 38.28 to 38.67 sec, confidence: 100.00%\n",
      "måste --------------- from 38.70 to 39.09 sec, confidence: 100.00%\n",
      "hem ----------------- from 39.12 to 39.42 sec, confidence: 47.78%\n",
      "passera ------------- from 39.45 to 40.05 sec, confidence: 100.00%\n",
      "värdinnan ----------- from 40.05 to 40.80 sec, confidence: 100.00%\n",
      "kex ----------------- from 41.01 to 41.40 sec, confidence: 100.00%\n",
      "ingång -------------- from 41.40 to 41.94 sec, confidence: 95.18%\n",
      "där ----------------- from 42.21 to 42.39 sec, confidence: 49.88%\n",
      "döden --------------- from 42.39 to 42.84 sec, confidence: 68.30%\n",
      "nästan -------------- from 42.84 to 43.23 sec, confidence: 55.74%\n",
      "alltid -------------- from 43.26 to 43.68 sec, confidence: 100.00%\n",
      "sture --------------- from 43.68 to 44.07 sec, confidence: 41.44%\n"
     ]
    },
    {
     "data": {
      "text/plain": [
       "[{'conf': 1.0, 'end': 0.42, 'start': 0.27, 'word': 'i'},\n",
       " {'conf': 1.0, 'end': 1.26, 'start': 0.42, 'word': 'skymningen'},\n",
       " {'conf': 1.0, 'end': 1.5, 'start': 1.35, 'word': 'en'},\n",
       " {'conf': 1.0, 'end': 1.8, 'start': 1.5, 'word': 'mycket'},\n",
       " {'conf': 1.0, 'end': 2.1, 'start': 1.83, 'word': 'het'},\n",
       " {'conf': 1.0, 'end': 2.43, 'start': 2.1, 'word': 'dag'},\n",
       " {'conf': 1.0, 'end': 2.52, 'start': 2.43, 'word': 'i'},\n",
       " {'conf': 1.0, 'end': 2.79, 'start': 2.52, 'word': 'början'},\n",
       " {'conf': 1.0, 'end': 2.91, 'start': 2.79, 'word': 'av'},\n",
       " {'conf': 1.0, 'end': 3.36, 'start': 2.91, 'word': 'juli'},\n",
       " {'conf': 1.0, 'end': 3.99, 'start': 3.36, 'word': 'lämnade'},\n",
       " {'conf': 1.0, 'end': 4.14, 'start': 3.99, 'word': 'en'},\n",
       " {'conf': 1.0, 'end': 4.41, 'start': 4.14, 'word': 'ung'},\n",
       " {'conf': 1.0, 'end': 4.68, 'start': 4.41, 'word': 'man'},\n",
       " {'conf': 1.0, 'end': 4.92, 'start': 4.68, 'word': 'sin'},\n",
       " {'conf': 1.0, 'end': 5.58, 'start': 4.92, 'word': 'kammare'},\n",
       " {'conf': 0.879903, 'end': 5.97, 'start': 5.79, 'word': 'som'},\n",
       " {'conf': 0.749795, 'end': 6.09, 'start': 5.97, 'word': 'han'},\n",
       " {'conf': 0.67001, 'end': 6.48, 'start': 6.09, 'word': 'hörde'},\n",
       " {'conf': 1.0, 'end': 6.69, 'start': 6.48, 'word': 'vid'},\n",
       " {'conf': 0.888201, 'end': 7.05, 'start': 6.72, 'word': 's'},\n",
       " {'conf': 0.594391, 'end': 7.53, 'start': 7.05, 'word': 'grand'},\n",
       " {'conf': 1.0, 'end': 8.13, 'start': 7.8, 'word': 'steg'},\n",
       " {'conf': 1.0, 'end': 8.31, 'start': 8.13, 'word': 'ut'},\n",
       " {'conf': 1.0, 'end': 8.43, 'start': 8.31, 'word': 'på'},\n",
       " {'conf': 1.0, 'end': 9.06, 'start': 8.43, 'word': 'gatan'},\n",
       " {'conf': 1.0, 'end': 9.18, 'start': 9.06, 'word': 'och'},\n",
       " {'conf': 0.822917, 'end': 9.687908, 'start': 9.18, 'word': 'började'},\n",
       " {'conf': 1.0, 'end': 10.47, 'start': 9.687908, 'word': 'långsamt'},\n",
       " {'conf': 1.0, 'end': 10.59, 'start': 10.47, 'word': 'och'},\n",
       " {'conf': 0.646143, 'end': 10.77, 'start': 10.59, 'word': 'med'},\n",
       " {'conf': 0.34051, 'end': 11.04, 'start': 10.77, 'word': 'samma'},\n",
       " {'conf': 1.0, 'end': 12.06, 'start': 11.07, 'word': 'obeslutsam'},\n",
       " {'conf': 0.667211, 'end': 12.39, 'start': 12.12, 'word': 'går'},\n",
       " {'conf': 0.885351, 'end': 12.69, 'start': 12.39, 'word': 'bort'},\n",
       " {'conf': 0.641653, 'end': 12.924507, 'start': 12.69, 'word': 'mot'},\n",
       " {'conf': 0.719833, 'end': 13.322595, 'start': 12.924507, 'word': 'jobb'},\n",
       " {'conf': 0.408972, 'end': 13.53, 'start': 13.322595, 'word': 'men'},\n",
       " {'conf': 1.0, 'end': 14.79, 'start': 14.04, 'word': 'lyckligtvis'},\n",
       " {'conf': 1.0, 'end': 15.06, 'start': 14.79, 'word': 'slapp'},\n",
       " {'conf': 1.0, 'end': 15.21, 'start': 15.06, 'word': 'han'},\n",
       " {'conf': 0.727627, 'end': 15.57, 'start': 15.21, 'word': 'möter'},\n",
       " {'conf': 1.0, 'end': 16.08, 'start': 15.57, 'word': 'värdinnan'},\n",
       " {'conf': 1.0, 'end': 16.148952, 'start': 16.08, 'word': 'i'},\n",
       " {'conf': 0.52521, 'end': 16.68, 'start': 16.148952, 'word': 'kappan'},\n",
       " {'conf': 0.500736, 'end': 17.25, 'start': 17.01, 'word': 'fanns'},\n",
       " {'conf': 1.0, 'end': 17.94, 'start': 17.25, 'word': 'kammare'},\n",
       " {'conf': 1.0, 'end': 18.21, 'start': 18.0, 'word': 'som'},\n",
       " {'conf': 0.77585, 'end': 18.42, 'start': 18.21, 'word': 'låg'},\n",
       " {'conf': 0.77585, 'end': 18.91903, 'start': 18.42, 'word': 'alldeles'},\n",
       " {'conf': 1.0, 'end': 19.29, 'start': 19.11, 'word': 'in'},\n",
       " {'conf': 1.0, 'end': 19.74, 'start': 19.32, 'word': 'under'},\n",
       " {'conf': 1.0, 'end': 19.92, 'start': 19.74, 'word': 'den'},\n",
       " {'conf': 1.0, 'end': 20.340341, 'start': 19.92, 'word': 'höga'},\n",
       " {'conf': 0.82792, 'end': 20.640958, 'start': 20.340341, 'word': 'fem'},\n",
       " {'conf': 0.222374, 'end': 20.88, 'start': 20.640958, 'word': 'veckor'},\n",
       " {'conf': 0.446671, 'end': 21.36, 'start': 21.12, 'word': 'aning'},\n",
       " {'conf': 0.554092, 'end': 21.862507, 'start': 21.362355, 'word': 'speglar'},\n",
       " {'conf': 1.0, 'end': 22.23, 'start': 21.862507, 'word': 'minst'},\n",
       " {'conf': 1.0, 'end': 22.56, 'start': 22.23, 'word': 'ha'},\n",
       " {'conf': 1.0, 'end': 23.37, 'start': 22.92, 'word': 'liknande'},\n",
       " {'conf': 1.0, 'end': 23.85, 'start': 23.4, 'word': 'snart'},\n",
       " {'conf': 1.0, 'end': 24.15, 'start': 23.88, 'word': 'ska'},\n",
       " {'conf': 1.0, 'end': 24.27, 'start': 24.15, 'word': 'jag'},\n",
       " {'conf': 1.0, 'end': 24.51, 'start': 24.27, 'word': 'köpa'},\n",
       " {'conf': 1.0, 'end': 24.66, 'start': 24.51, 'word': 'en'},\n",
       " {'conf': 1.0, 'end': 25.26, 'start': 24.66, 'word': 'bostad'},\n",
       " {'conf': 1.0, 'end': 27.63, 'start': 26.97, 'word': 'värdinnan'},\n",
       " {'conf': 1.0, 'end': 27.81, 'start': 27.63, 'word': 'som'},\n",
       " {'conf': 0.640346, 'end': 28.08, 'start': 27.81, 'word': 'hyrde'},\n",
       " {'conf': 0.741822, 'end': 28.5, 'start': 28.08, 'word': 'ut'},\n",
       " {'conf': 1.0, 'end': 29.22, 'start': 28.74, 'word': 'vind'},\n",
       " {'conf': 1.0, 'end': 30.21, 'start': 29.25, 'word': 'skutan'},\n",
       " {'conf': 1.0, 'end': 31.14, 'start': 30.93, 'word': 'och'},\n",
       " {'conf': 1.0, 'end': 31.47, 'start': 31.14, 'word': 'höll'},\n",
       " {'conf': 1.0, 'end': 31.71, 'start': 31.47, 'word': 'honom'},\n",
       " {'conf': 1.0, 'end': 32.01, 'start': 31.71, 'word': 'med'},\n",
       " {'conf': 1.0, 'end': 32.73, 'start': 32.16, 'word': 'middag'},\n",
       " {'conf': 0.816109, 'end': 32.91, 'start': 32.76, 'word': 'som'},\n",
       " {'conf': 0.816109, 'end': 33.0, 'start': 32.91, 'word': 'jag'},\n",
       " {'conf': 0.816109, 'end': 33.258787, 'start': 33.0, 'word': 'mål'},\n",
       " {'conf': 0.870594, 'end': 33.39, 'start': 33.258787, 'word': 'och'},\n",
       " {'conf': 1.0, 'end': 34.14, 'start': 33.39, 'word': 'städning'},\n",
       " {'conf': 0.595013, 'end': 34.59, 'start': 34.17, 'word': 'bodde'},\n",
       " {'conf': 0.952089, 'end': 34.95, 'start': 34.74, 'word': 'för'},\n",
       " {'conf': 0.611559, 'end': 35.373376, 'start': 34.95, 'word': 'sig'},\n",
       " {'conf': 0.49468, 'end': 35.53032, 'start': 35.373376, 'word': 'i'},\n",
       " {'conf': 1.0, 'end': 35.67, 'start': 35.53032, 'word': 'en'},\n",
       " {'conf': 0.602504, 'end': 36.24, 'start': 35.67, 'word': 'våningen'},\n",
       " {'conf': 0.570639, 'end': 36.66, 'start': 36.24, 'word': 'trappa'},\n",
       " {'conf': 1.0, 'end': 37.05, 'start': 36.66, 'word': 'ner'},\n",
       " {'conf': 1.0, 'end': 37.47, 'start': 37.2, 'word': 'och'},\n",
       " {'conf': 1.0, 'end': 37.62, 'start': 37.47, 'word': 'när'},\n",
       " {'conf': 0.884807, 'end': 37.74, 'start': 37.62, 'word': 'han'},\n",
       " {'conf': 1.0, 'end': 38.13, 'start': 37.74, 'word': 'skulle'},\n",
       " {'conf': 1.0, 'end': 38.67, 'start': 38.28, 'word': 'ut'},\n",
       " {'conf': 1.0, 'end': 39.09, 'start': 38.7, 'word': 'måste'},\n",
       " {'conf': 0.477814, 'end': 39.42, 'start': 39.12, 'word': 'hem'},\n",
       " {'conf': 1.0, 'end': 40.05, 'start': 39.45, 'word': 'passera'},\n",
       " {'conf': 1.0, 'end': 40.8, 'start': 40.05, 'word': 'värdinnan'},\n",
       " {'conf': 1.0, 'end': 41.4, 'start': 41.01, 'word': 'kex'},\n",
       " {'conf': 0.951785, 'end': 41.94, 'start': 41.4, 'word': 'ingång'},\n",
       " {'conf': 0.498795, 'end': 42.386781, 'start': 42.21, 'word': 'där'},\n",
       " {'conf': 0.683008, 'end': 42.839202, 'start': 42.386781, 'word': 'döden'},\n",
       " {'conf': 0.557393, 'end': 43.23, 'start': 42.839202, 'word': 'nästan'},\n",
       " {'conf': 1.0, 'end': 43.68, 'start': 43.26, 'word': 'alltid'},\n",
       " {'conf': 0.414367, 'end': 44.07, 'start': 43.68, 'word': 'sture'}]"
      ]
     },
     "execution_count": 28,
     "metadata": {},
     "output_type": "execute_result"
    }
   ],
   "source": [
    "mono_andreas_path = \"audio_preproc/180923214834-Y20UOTIE-text-000_pp.wav\"\n",
    "rec_vosk(mono_andreas_path, model)"
   ]
  },
  {
   "cell_type": "code",
   "execution_count": 29,
   "metadata": {},
   "outputs": [
    {
     "name": "stdout",
     "output_type": "stream",
     "text": [
      "m ------------------- from 1.32 to 2.46 sec, confidence: 70.74%\n",
      "m ------------------- from 8.07 to 8.88 sec, confidence: 89.11%\n",
      "m ------------------- from 12.09 to 12.72 sec, confidence: 55.66%\n",
      "ha ------------------ from 34.08 to 34.50 sec, confidence: 82.52%\n",
      "ha ------------------ from 34.68 to 34.92 sec, confidence: 82.52%\n",
      "m ------------------- from 35.76 to 35.79 sec, confidence: 21.16%\n",
      "han ----------------- from 48.12 to 48.45 sec, confidence: 75.41%\n",
      "m ------------------- from 55.35 to 55.68 sec, confidence: 58.22%\n",
      "amen ---------------- from 55.89 to 56.61 sec, confidence: 30.08%\n",
      "för ----------------- from 59.79 to 60.24 sec, confidence: 77.68%\n",
      "va ------------------ from 63.42 to 63.93 sec, confidence: 67.20%\n",
      "ja ------------------ from 67.05 to 67.59 sec, confidence: 100.00%\n",
      "man ----------------- from 70.26 to 71.01 sec, confidence: 100.00%\n",
      "varje --------------- from 74.76 to 75.00 sec, confidence: 100.00%\n",
      "år ------------------ from 75.03 to 75.63 sec, confidence: 100.00%\n",
      "han ----------------- from 78.06 to 78.33 sec, confidence: 48.32%\n",
      "var ----------------- from 78.42 to 78.87 sec, confidence: 84.26%\n",
      "hemma --------------- from 79.44 to 79.83 sec, confidence: 84.26%\n",
      "ön ------------------ from 84.96 to 85.86 sec, confidence: 40.32%\n",
      "är ------------------ from 85.86 to 86.13 sec, confidence: 61.65%\n",
      "över ---------------- from 86.55 to 86.91 sec, confidence: 35.39%\n"
     ]
    }
   ],
   "source": [
    "_ = rec_vosk(andreas_path, model)"
   ]
  },
  {
   "cell_type": "code",
   "execution_count": 30,
   "metadata": {},
   "outputs": [
    {
     "name": "stdout",
     "output_type": "stream",
     "text": [
      "på ------------------ from 0.66 to 0.84 sec, confidence: 100.00%\n",
      "många --------------- from 0.84 to 1.14 sec, confidence: 100.00%\n",
      "skolor -------------- from 1.14 to 1.77 sec, confidence: 100.00%\n",
      "saknas -------------- from 1.80 to 2.52 sec, confidence: 100.00%\n",
      "såväl --------------- from 2.52 to 2.88 sec, confidence: 100.00%\n",
      "digitala ------------ from 2.88 to 3.60 sec, confidence: 100.00%\n",
      "som ----------------- from 3.81 to 3.99 sec, confidence: 100.00%\n",
      "analoga ------------- from 3.99 to 4.59 sec, confidence: 100.00%\n",
      "resurser ------------ from 4.59 to 5.25 sec, confidence: 100.00%\n"
     ]
    }
   ],
   "source": [
    "_ = rec_vosk(digital_path, model)"
   ]
  }
 ],
 "metadata": {
  "kernelspec": {
   "display_name": "timeseries",
   "language": "python",
   "name": "python3"
  },
  "language_info": {
   "codemirror_mode": {
    "name": "ipython",
    "version": 3
   },
   "file_extension": ".py",
   "mimetype": "text/x-python",
   "name": "python",
   "nbconvert_exporter": "python",
   "pygments_lexer": "ipython3",
   "version": "3.11.5"
  }
 },
 "nbformat": 4,
 "nbformat_minor": 2
}
