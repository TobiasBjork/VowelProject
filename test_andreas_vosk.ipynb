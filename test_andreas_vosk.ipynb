{
 "cells": [
  {
   "cell_type": "code",
   "execution_count": 1,
   "metadata": {},
   "outputs": [],
   "source": [
    "import numpy as np\n",
    "from scipy.io import loadmat, wavfile\n",
    "from scipy import signal\n",
    "import matplotlib.pyplot as plt\n",
    "import matplotlib as mpl\n",
    "from Signal_Analysis.features.signal import get_F_0, get_HNR\n",
    "from importlib import reload\n",
    "import wave\n",
    "import json\n",
    "from vosk import Model, KaldiRecognizer,SetLogLevel\n",
    "import os.path\n",
    "import math\n",
    "from folderFunctions import*\n",
    "\n",
    "\n",
    "# tools work in progress\n",
    "import tools\n",
    "reload(tools)\n",
    "from tools import *\n",
    "\n",
    "plt.style.use(\"dark_background\")\n",
    "mpl.rcParams[\"lines.linewidth\"] = 0.5\n",
    "plt.close(\"all\")"
   ]
  },
  {
   "cell_type": "code",
   "execution_count": 2,
   "metadata": {},
   "outputs": [
    {
     "name": "stdout",
     "output_type": "stream",
     "text": [
      "45.09315192743764 sekunder\n"
     ]
    }
   ],
   "source": [
    "#andreas_path = \"Inspelning (3).wav\"\n",
    "andreas_path = \"example_speech_Andreas/180923214834-Y20UOTIE-text-000.wav\"\n",
    "Fs, x = wavfile.read(andreas_path)\n",
    "x = x[:,0]\n",
    "x = x / x.std()\n",
    "print(len(x)/Fs,\"sekunder\")\n",
    "\n",
    "digital_path = \"wav_examples/digitala_resurser_sv.wav\"\n",
    "Fs_2, x_2 = wavfile.read(digital_path)\n",
    "x_2 = x_2 / x_2.std()"
   ]
  },
  {
   "cell_type": "code",
   "execution_count": 8,
   "metadata": {},
   "outputs": [
    {
     "name": "stdout",
     "output_type": "stream",
     "text": [
      "preprocessing 180923214834-Y20UOTIE-text-000\n"
     ]
    }
   ],
   "source": [
    "#pre-process andreas to mono\n",
    "path_output = \"audio_preproc/\"\n",
    "_ = preprocess(andreas_path, path_output)\n"
   ]
  },
  {
   "cell_type": "code",
   "execution_count": 11,
   "metadata": {},
   "outputs": [
    {
     "name": "stdout",
     "output_type": "stream",
     "text": [
      "i ------------------- from 0.27 to 0.42 sec, confidence: 100.00%\n",
      "skymningen ---------- from 0.42 to 1.26 sec, confidence: 100.00%\n",
      "en ------------------ from 1.35 to 1.50 sec, confidence: 100.00%\n",
      "mycket -------------- from 1.50 to 1.80 sec, confidence: 100.00%\n",
      "het ----------------- from 1.83 to 2.10 sec, confidence: 100.00%\n",
      "dag ----------------- from 2.10 to 2.43 sec, confidence: 100.00%\n",
      "i ------------------- from 2.43 to 2.52 sec, confidence: 100.00%\n",
      "början -------------- from 2.52 to 2.79 sec, confidence: 100.00%\n",
      "av ------------------ from 2.79 to 2.91 sec, confidence: 100.00%\n",
      "juli ---------------- from 2.91 to 3.36 sec, confidence: 100.00%\n",
      "lämnade ------------- from 3.36 to 3.99 sec, confidence: 100.00%\n",
      "en ------------------ from 3.99 to 4.14 sec, confidence: 100.00%\n",
      "ung ----------------- from 4.14 to 4.41 sec, confidence: 100.00%\n",
      "man ----------------- from 4.41 to 4.68 sec, confidence: 100.00%\n",
      "sin ----------------- from 4.68 to 4.92 sec, confidence: 100.00%\n",
      "kammare ------------- from 4.92 to 5.58 sec, confidence: 100.00%\n",
      "som ----------------- from 5.79 to 5.97 sec, confidence: 87.72%\n",
      "han ----------------- from 5.97 to 6.09 sec, confidence: 74.68%\n",
      "hörde --------------- from 6.09 to 6.48 sec, confidence: 68.67%\n",
      "vid ----------------- from 6.48 to 6.69 sec, confidence: 100.00%\n",
      "s ------------------- from 6.72 to 7.05 sec, confidence: 88.95%\n",
      "grand --------------- from 7.05 to 7.53 sec, confidence: 58.52%\n",
      "steg ---------------- from 7.80 to 8.13 sec, confidence: 100.00%\n",
      "ut ------------------ from 8.13 to 8.31 sec, confidence: 100.00%\n",
      "på ------------------ from 8.31 to 8.43 sec, confidence: 100.00%\n",
      "gatan --------------- from 8.43 to 9.06 sec, confidence: 100.00%\n",
      "och ----------------- from 9.06 to 9.18 sec, confidence: 100.00%\n",
      "började ------------- from 9.18 to 9.69 sec, confidence: 82.92%\n",
      "långsamt ------------ from 9.69 to 10.47 sec, confidence: 100.00%\n",
      "och ----------------- from 10.47 to 10.59 sec, confidence: 100.00%\n",
      "med ----------------- from 10.59 to 10.77 sec, confidence: 64.85%\n",
      "samma --------------- from 10.77 to 11.04 sec, confidence: 34.44%\n",
      "obeslutsam ---------- from 11.07 to 12.06 sec, confidence: 100.00%\n",
      "går ----------------- from 12.12 to 12.39 sec, confidence: 65.49%\n",
      "bort ---------------- from 12.39 to 12.69 sec, confidence: 86.90%\n",
      "mot ----------------- from 12.69 to 12.92 sec, confidence: 64.40%\n",
      "jobb ---------------- from 12.92 to 13.32 sec, confidence: 68.95%\n",
      "men ----------------- from 13.32 to 13.53 sec, confidence: 38.04%\n",
      "lyckligtvis --------- from 14.04 to 14.79 sec, confidence: 100.00%\n",
      "slapp --------------- from 14.79 to 15.06 sec, confidence: 100.00%\n",
      "han ----------------- from 15.06 to 15.21 sec, confidence: 100.00%\n",
      "möter --------------- from 15.21 to 15.57 sec, confidence: 72.76%\n",
      "värdinnan ----------- from 15.57 to 16.08 sec, confidence: 100.00%\n",
      "i ------------------- from 16.08 to 16.15 sec, confidence: 94.87%\n",
      "kappan -------------- from 16.15 to 16.68 sec, confidence: 44.74%\n",
      "fanns --------------- from 17.01 to 17.25 sec, confidence: 54.41%\n",
      "kammare ------------- from 17.25 to 17.94 sec, confidence: 100.00%\n",
      "som ----------------- from 18.00 to 18.21 sec, confidence: 100.00%\n",
      "låg ----------------- from 18.21 to 18.42 sec, confidence: 78.12%\n",
      "alldeles ------------ from 18.42 to 18.92 sec, confidence: 78.12%\n",
      "in ------------------ from 19.11 to 19.29 sec, confidence: 100.00%\n",
      "under --------------- from 19.32 to 19.74 sec, confidence: 100.00%\n",
      "den ----------------- from 19.74 to 19.92 sec, confidence: 100.00%\n",
      "höga ---------------- from 19.92 to 20.34 sec, confidence: 100.00%\n",
      "fem ----------------- from 20.34 to 20.64 sec, confidence: 85.95%\n",
      "veckor -------------- from 20.64 to 20.88 sec, confidence: 22.87%\n",
      "aning --------------- from 21.15 to 21.36 sec, confidence: 33.22%\n",
      "speglar ------------- from 21.36 to 21.86 sec, confidence: 55.22%\n",
      "minst --------------- from 21.86 to 22.23 sec, confidence: 100.00%\n",
      "ha ------------------ from 22.23 to 22.56 sec, confidence: 100.00%\n",
      "liknande ------------ from 22.92 to 23.37 sec, confidence: 100.00%\n",
      "snart --------------- from 23.40 to 23.85 sec, confidence: 100.00%\n",
      "ska ----------------- from 23.88 to 24.15 sec, confidence: 100.00%\n",
      "jag ----------------- from 24.15 to 24.27 sec, confidence: 100.00%\n",
      "köpa ---------------- from 24.27 to 24.51 sec, confidence: 100.00%\n",
      "en ------------------ from 24.51 to 24.66 sec, confidence: 100.00%\n",
      "bostad -------------- from 24.66 to 25.26 sec, confidence: 100.00%\n",
      "värdinnan ----------- from 26.97 to 27.63 sec, confidence: 100.00%\n",
      "som ----------------- from 27.63 to 27.81 sec, confidence: 100.00%\n",
      "hyrde --------------- from 27.81 to 28.08 sec, confidence: 63.76%\n",
      "ut ------------------ from 28.08 to 28.50 sec, confidence: 73.34%\n",
      "vind ---------------- from 28.74 to 29.22 sec, confidence: 100.00%\n",
      "skutan -------------- from 29.25 to 30.21 sec, confidence: 100.00%\n",
      "och ----------------- from 30.93 to 31.14 sec, confidence: 100.00%\n",
      "höll ---------------- from 31.14 to 31.47 sec, confidence: 100.00%\n",
      "honom --------------- from 31.47 to 31.71 sec, confidence: 100.00%\n",
      "med ----------------- from 31.71 to 32.01 sec, confidence: 100.00%\n",
      "middag -------------- from 32.16 to 32.73 sec, confidence: 100.00%\n",
      "som ----------------- from 32.76 to 32.91 sec, confidence: 81.56%\n",
      "jag ----------------- from 32.91 to 33.00 sec, confidence: 81.56%\n",
      "mål ----------------- from 33.00 to 33.26 sec, confidence: 81.56%\n",
      "och ----------------- from 33.26 to 33.39 sec, confidence: 86.87%\n",
      "städning ------------ from 33.39 to 34.14 sec, confidence: 100.00%\n",
      "bodde --------------- from 34.17 to 34.59 sec, confidence: 59.53%\n",
      "för ----------------- from 34.74 to 34.95 sec, confidence: 95.34%\n",
      "sig ----------------- from 34.95 to 35.38 sec, confidence: 60.48%\n",
      "en ------------------ from 35.51 to 35.67 sec, confidence: 100.00%\n",
      "våningen ------------ from 35.67 to 36.24 sec, confidence: 60.25%\n",
      "trappa -------------- from 36.24 to 36.66 sec, confidence: 57.10%\n",
      "ner ----------------- from 36.66 to 37.05 sec, confidence: 100.00%\n",
      "och ----------------- from 37.20 to 37.47 sec, confidence: 100.00%\n",
      "när ----------------- from 37.47 to 37.62 sec, confidence: 100.00%\n",
      "han ----------------- from 37.62 to 37.74 sec, confidence: 89.16%\n",
      "skulle -------------- from 37.74 to 38.13 sec, confidence: 100.00%\n",
      "ut ------------------ from 38.28 to 38.67 sec, confidence: 100.00%\n",
      "måste --------------- from 38.70 to 39.09 sec, confidence: 100.00%\n",
      "hem ----------------- from 39.12 to 39.42 sec, confidence: 49.00%\n",
      "passera ------------- from 39.45 to 40.05 sec, confidence: 100.00%\n",
      "värdinnan ----------- from 40.05 to 40.80 sec, confidence: 100.00%\n",
      "kex ----------------- from 40.98 to 41.40 sec, confidence: 100.00%\n",
      "ingång -------------- from 41.40 to 41.94 sec, confidence: 95.16%\n",
      "där ----------------- from 42.21 to 42.36 sec, confidence: 49.77%\n",
      "döden --------------- from 42.36 to 42.84 sec, confidence: 68.94%\n",
      "nästan -------------- from 42.84 to 43.23 sec, confidence: 55.90%\n",
      "alltid -------------- from 43.26 to 43.68 sec, confidence: 100.00%\n",
      "sture --------------- from 43.68 to 44.07 sec, confidence: 42.31%\n"
     ]
    },
    {
     "data": {
      "text/plain": [
       "[{'conf': 1.0, 'end': 0.42, 'start': 0.27, 'word': 'i'},\n",
       " {'conf': 1.0, 'end': 1.26, 'start': 0.42, 'word': 'skymningen'},\n",
       " {'conf': 1.0, 'end': 1.5, 'start': 1.35, 'word': 'en'},\n",
       " {'conf': 1.0, 'end': 1.8, 'start': 1.5, 'word': 'mycket'},\n",
       " {'conf': 1.0, 'end': 2.1, 'start': 1.83, 'word': 'het'},\n",
       " {'conf': 1.0, 'end': 2.43, 'start': 2.1, 'word': 'dag'},\n",
       " {'conf': 1.0, 'end': 2.52, 'start': 2.43, 'word': 'i'},\n",
       " {'conf': 1.0, 'end': 2.79, 'start': 2.52, 'word': 'början'},\n",
       " {'conf': 1.0, 'end': 2.91, 'start': 2.79, 'word': 'av'},\n",
       " {'conf': 1.0, 'end': 3.36, 'start': 2.91, 'word': 'juli'},\n",
       " {'conf': 1.0, 'end': 3.99, 'start': 3.36, 'word': 'lämnade'},\n",
       " {'conf': 1.0, 'end': 4.14, 'start': 3.99, 'word': 'en'},\n",
       " {'conf': 1.0, 'end': 4.41, 'start': 4.14, 'word': 'ung'},\n",
       " {'conf': 1.0, 'end': 4.68, 'start': 4.41, 'word': 'man'},\n",
       " {'conf': 1.0, 'end': 4.92, 'start': 4.68, 'word': 'sin'},\n",
       " {'conf': 1.0, 'end': 5.58, 'start': 4.92, 'word': 'kammare'},\n",
       " {'conf': 0.877161, 'end': 5.97, 'start': 5.79, 'word': 'som'},\n",
       " {'conf': 0.746815, 'end': 6.09, 'start': 5.97, 'word': 'han'},\n",
       " {'conf': 0.686663, 'end': 6.48, 'start': 6.09, 'word': 'hörde'},\n",
       " {'conf': 1.0, 'end': 6.69, 'start': 6.48, 'word': 'vid'},\n",
       " {'conf': 0.889547, 'end': 7.05, 'start': 6.72, 'word': 's'},\n",
       " {'conf': 0.585223, 'end': 7.53, 'start': 7.05, 'word': 'grand'},\n",
       " {'conf': 1.0, 'end': 8.13, 'start': 7.8, 'word': 'steg'},\n",
       " {'conf': 1.0, 'end': 8.31, 'start': 8.13, 'word': 'ut'},\n",
       " {'conf': 1.0, 'end': 8.43, 'start': 8.31, 'word': 'på'},\n",
       " {'conf': 1.0, 'end': 9.06, 'start': 8.43, 'word': 'gatan'},\n",
       " {'conf': 1.0, 'end': 9.18, 'start': 9.06, 'word': 'och'},\n",
       " {'conf': 0.829245, 'end': 9.687983, 'start': 9.18, 'word': 'började'},\n",
       " {'conf': 1.0, 'end': 10.47, 'start': 9.687983, 'word': 'långsamt'},\n",
       " {'conf': 1.0, 'end': 10.59, 'start': 10.47, 'word': 'och'},\n",
       " {'conf': 0.64851, 'end': 10.77, 'start': 10.59, 'word': 'med'},\n",
       " {'conf': 0.344354, 'end': 11.04, 'start': 10.77, 'word': 'samma'},\n",
       " {'conf': 1.0, 'end': 12.06, 'start': 11.07, 'word': 'obeslutsam'},\n",
       " {'conf': 0.654882, 'end': 12.39, 'start': 12.12, 'word': 'går'},\n",
       " {'conf': 0.868991, 'end': 12.69, 'start': 12.39, 'word': 'bort'},\n",
       " {'conf': 0.644025, 'end': 12.920161, 'start': 12.69, 'word': 'mot'},\n",
       " {'conf': 0.689506, 'end': 13.32242, 'start': 12.920161, 'word': 'jobb'},\n",
       " {'conf': 0.380361, 'end': 13.53, 'start': 13.32242, 'word': 'men'},\n",
       " {'conf': 1.0, 'end': 14.79, 'start': 14.04, 'word': 'lyckligtvis'},\n",
       " {'conf': 1.0, 'end': 15.06, 'start': 14.79, 'word': 'slapp'},\n",
       " {'conf': 1.0, 'end': 15.21, 'start': 15.06, 'word': 'han'},\n",
       " {'conf': 0.727627, 'end': 15.57, 'start': 15.21, 'word': 'möter'},\n",
       " {'conf': 1.0, 'end': 16.079, 'start': 15.57, 'word': 'värdinnan'},\n",
       " {'conf': 0.948719, 'end': 16.15023, 'start': 16.08, 'word': 'i'},\n",
       " {'conf': 0.447417, 'end': 16.68, 'start': 16.15023, 'word': 'kappan'},\n",
       " {'conf': 0.544051, 'end': 17.25, 'start': 17.01, 'word': 'fanns'},\n",
       " {'conf': 1.0, 'end': 17.94, 'start': 17.25, 'word': 'kammare'},\n",
       " {'conf': 1.0, 'end': 18.21, 'start': 18.0, 'word': 'som'},\n",
       " {'conf': 0.781184, 'end': 18.42, 'start': 18.21, 'word': 'låg'},\n",
       " {'conf': 0.781184, 'end': 18.91879, 'start': 18.42, 'word': 'alldeles'},\n",
       " {'conf': 1.0, 'end': 19.29, 'start': 19.11, 'word': 'in'},\n",
       " {'conf': 1.0, 'end': 19.74, 'start': 19.32, 'word': 'under'},\n",
       " {'conf': 1.0, 'end': 19.92, 'start': 19.74, 'word': 'den'},\n",
       " {'conf': 1.0, 'end': 20.34, 'start': 19.92, 'word': 'höga'},\n",
       " {'conf': 0.859529, 'end': 20.641349, 'start': 20.34, 'word': 'fem'},\n",
       " {'conf': 0.228689, 'end': 20.88, 'start': 20.641349, 'word': 'veckor'},\n",
       " {'conf': 0.332156, 'end': 21.36, 'start': 21.15, 'word': 'aning'},\n",
       " {'conf': 0.552175, 'end': 21.862515, 'start': 21.362719, 'word': 'speglar'},\n",
       " {'conf': 1.0, 'end': 22.23, 'start': 21.862515, 'word': 'minst'},\n",
       " {'conf': 1.0, 'end': 22.56, 'start': 22.23, 'word': 'ha'},\n",
       " {'conf': 1.0, 'end': 23.37, 'start': 22.92, 'word': 'liknande'},\n",
       " {'conf': 1.0, 'end': 23.85, 'start': 23.4, 'word': 'snart'},\n",
       " {'conf': 1.0, 'end': 24.15, 'start': 23.88, 'word': 'ska'},\n",
       " {'conf': 1.0, 'end': 24.27, 'start': 24.15, 'word': 'jag'},\n",
       " {'conf': 1.0, 'end': 24.51, 'start': 24.27, 'word': 'köpa'},\n",
       " {'conf': 1.0, 'end': 24.66, 'start': 24.51, 'word': 'en'},\n",
       " {'conf': 1.0, 'end': 25.26, 'start': 24.66, 'word': 'bostad'},\n",
       " {'conf': 1.0, 'end': 27.63, 'start': 26.97, 'word': 'värdinnan'},\n",
       " {'conf': 1.0, 'end': 27.81, 'start': 27.63, 'word': 'som'},\n",
       " {'conf': 0.637572, 'end': 28.08, 'start': 27.81, 'word': 'hyrde'},\n",
       " {'conf': 0.733397, 'end': 28.5, 'start': 28.08, 'word': 'ut'},\n",
       " {'conf': 1.0, 'end': 29.22, 'start': 28.74, 'word': 'vind'},\n",
       " {'conf': 1.0, 'end': 30.21, 'start': 29.25, 'word': 'skutan'},\n",
       " {'conf': 1.0, 'end': 31.14, 'start': 30.93, 'word': 'och'},\n",
       " {'conf': 1.0, 'end': 31.47, 'start': 31.14, 'word': 'höll'},\n",
       " {'conf': 1.0, 'end': 31.71, 'start': 31.47, 'word': 'honom'},\n",
       " {'conf': 1.0, 'end': 32.01, 'start': 31.71, 'word': 'med'},\n",
       " {'conf': 1.0, 'end': 32.73, 'start': 32.16, 'word': 'middag'},\n",
       " {'conf': 0.815586, 'end': 32.91, 'start': 32.76, 'word': 'som'},\n",
       " {'conf': 0.815586, 'end': 33.0, 'start': 32.91, 'word': 'jag'},\n",
       " {'conf': 0.815586, 'end': 33.259028, 'start': 33.0, 'word': 'mål'},\n",
       " {'conf': 0.868745, 'end': 33.39, 'start': 33.259028, 'word': 'och'},\n",
       " {'conf': 1.0, 'end': 34.14, 'start': 33.39, 'word': 'städning'},\n",
       " {'conf': 0.595269, 'end': 34.59, 'start': 34.17, 'word': 'bodde'},\n",
       " {'conf': 0.953363, 'end': 34.95, 'start': 34.74, 'word': 'för'},\n",
       " {'conf': 0.604807, 'end': 35.381459, 'start': 34.95, 'word': 'sig'},\n",
       " {'conf': 1.0, 'end': 35.67, 'start': 35.512511, 'word': 'en'},\n",
       " {'conf': 0.602534, 'end': 36.24, 'start': 35.67, 'word': 'våningen'},\n",
       " {'conf': 0.570974, 'end': 36.66, 'start': 36.24, 'word': 'trappa'},\n",
       " {'conf': 1.0, 'end': 37.05, 'start': 36.66, 'word': 'ner'},\n",
       " {'conf': 1.0, 'end': 37.47, 'start': 37.2, 'word': 'och'},\n",
       " {'conf': 1.0, 'end': 37.62, 'start': 37.47, 'word': 'när'},\n",
       " {'conf': 0.891581, 'end': 37.74, 'start': 37.62, 'word': 'han'},\n",
       " {'conf': 1.0, 'end': 38.13, 'start': 37.74, 'word': 'skulle'},\n",
       " {'conf': 1.0, 'end': 38.67, 'start': 38.28, 'word': 'ut'},\n",
       " {'conf': 1.0, 'end': 39.09, 'start': 38.7, 'word': 'måste'},\n",
       " {'conf': 0.489991, 'end': 39.42, 'start': 39.12, 'word': 'hem'},\n",
       " {'conf': 1.0, 'end': 40.05, 'start': 39.45, 'word': 'passera'},\n",
       " {'conf': 1.0, 'end': 40.8, 'start': 40.05, 'word': 'värdinnan'},\n",
       " {'conf': 1.0, 'end': 41.4, 'start': 40.98, 'word': 'kex'},\n",
       " {'conf': 0.951561, 'end': 41.94, 'start': 41.4, 'word': 'ingång'},\n",
       " {'conf': 0.497658, 'end': 42.359641, 'start': 42.21, 'word': 'där'},\n",
       " {'conf': 0.689371, 'end': 42.839213, 'start': 42.359641, 'word': 'döden'},\n",
       " {'conf': 0.558966, 'end': 43.23, 'start': 42.839213, 'word': 'nästan'},\n",
       " {'conf': 1.0, 'end': 43.68, 'start': 43.26, 'word': 'alltid'},\n",
       " {'conf': 0.423077, 'end': 44.07, 'start': 43.68, 'word': 'sture'}]"
      ]
     },
     "execution_count": 11,
     "metadata": {},
     "output_type": "execute_result"
    }
   ],
   "source": [
    "mono_andreas_path = \"audio_preproc/180923214834-Y20UOTIE-text-000_pp.wav\"\n",
    "rec_vosk(mono_andreas_path, model)"
   ]
  },
  {
   "cell_type": "code",
   "execution_count": 3,
   "metadata": {},
   "outputs": [
    {
     "data": {
      "image/png": "[encoded data removed]",
      "text/plain": [
       "<Figure size 640x480 with 2 Axes>"
      ]
     },
     "metadata": {},
     "output_type": "display_data"
    }
   ],
   "source": [
    "plt.figure()\n",
    "plt.subplot(211)\n",
    "plt.title(\"från andreas\")\n",
    "plt.plot(x)\n",
    "plt.subplot(212)\n",
    "plt.title(\"digitala resurser\")\n",
    "plt.plot(x_2)\n",
    "plt.tight_layout()\n",
    "plt.show()"
   ]
  },
  {
   "cell_type": "code",
   "execution_count": 5,
   "metadata": {},
   "outputs": [
    {
     "name": "stdout",
     "output_type": "stream",
     "text": [
      "32000\n"
     ]
    }
   ],
   "source": [
    "print(Fs_2)"
   ]
  },
  {
   "cell_type": "code",
   "execution_count": 10,
   "metadata": {},
   "outputs": [],
   "source": [
    "model_path = \"models/vosk-model-small-sv-rhasspy-0.15/\"\n",
    "model = Model(model_path)"
   ]
  },
  {
   "cell_type": "code",
   "execution_count": 7,
   "metadata": {},
   "outputs": [
    {
     "name": "stdout",
     "output_type": "stream",
     "text": [
      "hur ----------------- from 4.14 to 4.62 sec, confidence: 47.07%\n",
      "hänger -------------- from 4.62 to 4.83 sec, confidence: 39.83%\n",
      "hemma --------------- from 5.97 to 6.36 sec, confidence: 55.56%\n",
      "igen ---------------- from 6.37 to 7.02 sec, confidence: 89.11%\n",
      "nu ------------------ from 7.83 to 8.10 sec, confidence: 96.96%\n",
      "är ------------------ from 8.12 to 8.18 sec, confidence: 49.71%\n",
      "man ----------------- from 8.82 to 9.45 sec, confidence: 55.19%\n",
      "hungrig ------------- from 9.75 to 10.17 sec, confidence: 24.74%\n",
      "han ----------------- from 10.54 to 10.98 sec, confidence: 56.82%\n",
      "om ------------------ from 11.61 to 12.03 sec, confidence: 31.91%\n",
      "en ------------------ from 12.78 to 13.20 sec, confidence: 78.35%\n",
      "snurr --------------- from 15.30 to 15.87 sec, confidence: 78.35%\n",
      "kan ----------------- from 15.89 to 16.22 sec, confidence: 90.93%\n",
      "man ----------------- from 16.26 to 16.55 sec, confidence: 90.93%\n",
      "ana ----------------- from 16.89 to 17.43 sec, confidence: 100.00%\n",
      "att ----------------- from 17.46 to 17.82 sec, confidence: 100.00%\n",
      "han ----------------- from 17.94 to 18.30 sec, confidence: 100.00%\n",
      "sedan --------------- from 18.30 to 18.84 sec, confidence: 90.00%\n",
      "dess ---------------- from 18.96 to 19.32 sec, confidence: 90.00%\n",
      "mörka --------------- from 19.35 to 20.19 sec, confidence: 100.00%\n",
      "ögon ---------------- from 20.19 to 21.30 sec, confidence: 100.00%\n",
      "ja ------------------ from 23.31 to 24.39 sec, confidence: 78.35%\n",
      "nu ------------------ from 24.42 to 24.60 sec, confidence: 68.26%\n",
      "är ------------------ from 24.60 to 24.66 sec, confidence: 68.26%\n",
      "man ----------------- from 25.14 to 25.59 sec, confidence: 100.00%\n",
      "tacksam ------------- from 26.04 to 26.97 sec, confidence: 68.26%\n",
      "har ----------------- from 28.65 to 28.89 sec, confidence: 67.62%\n",
      "du ------------------ from 28.89 to 29.16 sec, confidence: 100.00%\n",
      "kan ----------------- from 29.43 to 29.61 sec, confidence: 49.26%\n",
      "göra ---------------- from 29.61 to 30.10 sec, confidence: 49.26%\n",
      "mot ----------------- from 31.26 to 31.88 sec, confidence: 100.00%\n",
      "varandra ------------ from 31.89 to 32.34 sec, confidence: 63.59%\n",
      "mamma --------------- from 34.47 to 35.49 sec, confidence: 68.68%\n",
      "man ----------------- from 35.82 to 36.03 sec, confidence: 27.11%\n",
      "kör ----------------- from 37.20 to 37.68 sec, confidence: 51.98%\n",
      "han ----------------- from 38.40 to 38.64 sec, confidence: 66.11%\n",
      "värd ---------------- from 39.99 to 40.41 sec, confidence: 22.53%\n"
     ]
    }
   ],
   "source": [
    "_ = rec_vosk(andreas_path, model)"
   ]
  },
  {
   "cell_type": "code",
   "execution_count": 8,
   "metadata": {},
   "outputs": [
    {
     "name": "stdout",
     "output_type": "stream",
     "text": [
      "på ------------------ from 0.66 to 0.84 sec, confidence: 100.00%\n",
      "många --------------- from 0.84 to 1.14 sec, confidence: 100.00%\n",
      "skolor -------------- from 1.14 to 1.77 sec, confidence: 100.00%\n",
      "saknas -------------- from 1.80 to 2.52 sec, confidence: 100.00%\n",
      "såväl --------------- from 2.52 to 2.88 sec, confidence: 100.00%\n",
      "digitala ------------ from 2.88 to 3.60 sec, confidence: 100.00%\n",
      "som ----------------- from 3.81 to 3.99 sec, confidence: 100.00%\n",
      "analoga ------------- from 3.99 to 4.59 sec, confidence: 100.00%\n",
      "resurser ------------ from 4.59 to 5.25 sec, confidence: 100.00%\n"
     ]
    }
   ],
   "source": [
    "_ = rec_vosk(digital_path, model)"
   ]
  },
  {
   "cell_type": "markdown",
   "metadata": {},
   "source": [
    "## Processing"
   ]
  },
  {
   "cell_type": "code",
   "execution_count": null,
   "metadata": {},
   "outputs": [],
   "source": []
  },
  {
   "cell_type": "code",
   "execution_count": 9,
   "metadata": {},
   "outputs": [],
   "source": [
    "audio_processed = wavScaler(x)\n",
    "proc_path = \"wav_examples/andreas_proc.wav\"\n",
    "wavfile.write(proc_path, Fs, audio_processed)"
   ]
  },
  {
   "cell_type": "markdown",
   "metadata": {},
   "source": [
    "## Test processed"
   ]
  },
  {
   "cell_type": "code",
   "execution_count": 10,
   "metadata": {},
   "outputs": [],
   "source": [
    "#rec_vosk(proc_path,model) "
   ]
  }
 ],
 "metadata": {
  "kernelspec": {
   "display_name": "timeseries",
   "language": "python",
   "name": "python3"
  },
  "language_info": {
   "codemirror_mode": {
    "name": "ipython",
    "version": 3
   },
   "file_extension": ".py",
   "mimetype": "text/x-python",
   "name": "python",
   "nbconvert_exporter": "python",
   "pygments_lexer": "ipython3",
   "version": "3.11.7"
  }
 },
 "nbformat": 4,
 "nbformat_minor": 2
}
